{
 "cells": [
  {
   "cell_type": "markdown",
   "metadata": {
    "run_control": {
     "marked": true
    }
   },
   "source": [
    "# Week 5 - Logistic Regression and Classification Error Metrics"
   ]
  },
  {
   "cell_type": "markdown",
   "metadata": {
    "run_control": {
     "marked": true
    }
   },
   "source": [
    "## Introduction\n",
    "\n",
    "We will be using the [Human Activity Recognition with Smartphones](https://archive.ics.uci.edu/ml/datasets/Human+Activity+Recognition+Using+Smartphones) database, which was built from the recordings of study participants performing activities of daily living (ADL) while carrying a smartphone with an embedded inertial sensors. The objective is to classify activities into one of the six activities (walking, walking upstairs, walking downstairs, sitting, standing, and laying) performed.\n",
    "\n",
    "Alternatively the same data set can be found at https://www.kaggle.com/uciml/human-activity-recognition-with-smartphones/downloads/human-activity-recognition-with-smartphones.zip\n",
    "The train file can be renamed as Human_Activity_Recognition_Using_Smartphones_Data.csv \n",
    "\n",
    "For each record in the dataset it is provided: \n",
    "\n",
    "- Triaxial acceleration from the accelerometer (total acceleration) and the estimated body acceleration. \n",
    "- Triaxial Angular velocity from the gyroscope. \n",
    "- A 561-feature vector with time and frequency domain variables. \n",
    "- Its activity label. \n",
    "\n",
    "More information about the features is available on the website above."
   ]
  },
  {
   "cell_type": "code",
   "execution_count": 1,
   "metadata": {
    "collapsed": true,
    "run_control": {
     "marked": true
    }
   },
   "outputs": [],
   "source": [
    "from __future__ import print_function\n",
    "import os\n",
    "#Data Path has to be set as per the file location in your system\n",
    "#data_path = ['..', 'data']\n",
    "data_path = ['data']"
   ]
  },
  {
   "cell_type": "markdown",
   "metadata": {
    "run_control": {
     "marked": true
    }
   },
   "source": [
    "## Question 1\n",
    "\n",
    "Import the data and do the following:\n",
    "\n",
    "* Examine the data types--there are many columns, so it might be wise to use value counts\n",
    "* Determine if the floating point values need to be scaled\n",
    "* Determine the breakdown of each activity\n",
    "* Encode the activity label as an integer"
   ]
  },
  {
   "cell_type": "code",
   "execution_count": 2,
   "metadata": {
    "collapsed": true,
    "run_control": {
     "marked": true
    }
   },
   "outputs": [],
   "source": [
    "import pandas as pd\n",
    "import numpy as np\n",
    "#The filepath is dependent on the data_path set in the previous cell \n",
    "filepath = os.sep.join(data_path + ['Human_Activity_Recognition_Using_Smartphones_Data.csv'])\n",
    "data = pd.read_csv(filepath, sep=',')"
   ]
  },
  {
   "cell_type": "markdown",
   "metadata": {
    "run_control": {
     "marked": true
    }
   },
   "source": [
    "The data columns are all floats except for the activity label."
   ]
  },
  {
   "cell_type": "code",
   "execution_count": 3,
   "metadata": {
    "run_control": {
     "marked": true
    }
   },
   "outputs": [
    {
     "data": {
      "text/plain": [
       "float64    561\n",
       "object       1\n",
       "dtype: int64"
      ]
     },
     "execution_count": 3,
     "metadata": {},
     "output_type": "execute_result"
    }
   ],
   "source": [
    "data.dtypes.value_counts()"
   ]
  },
  {
   "cell_type": "code",
   "execution_count": 4,
   "metadata": {
    "run_control": {
     "marked": true
    }
   },
   "outputs": [
    {
     "data": {
      "text/plain": [
       "angle(tBodyGyroJerkMean,gravityMean)    float64\n",
       "angle(X,gravityMean)                    float64\n",
       "angle(Y,gravityMean)                    float64\n",
       "angle(Z,gravityMean)                    float64\n",
       "Activity                                 object\n",
       "dtype: object"
      ]
     },
     "execution_count": 4,
     "metadata": {},
     "output_type": "execute_result"
    }
   ],
   "source": [
    "data.dtypes.tail()"
   ]
  },
  {
   "cell_type": "markdown",
   "metadata": {
    "run_control": {
     "marked": true
    }
   },
   "source": [
    "The data are all scaled from -1 (minimum) to 1.0 (maximum)."
   ]
  },
  {
   "cell_type": "code",
   "execution_count": 5,
   "metadata": {
    "run_control": {
     "marked": true
    }
   },
   "outputs": [
    {
     "data": {
      "text/plain": [
       "-1.0    561\n",
       "dtype: int64"
      ]
     },
     "execution_count": 5,
     "metadata": {},
     "output_type": "execute_result"
    }
   ],
   "source": [
    "data.iloc[:, :-1].min().value_counts()"
   ]
  },
  {
   "cell_type": "markdown",
   "metadata": {},
   "source": [
    "Examine the breakdown of activities--they are relatively balanced."
   ]
  },
  {
   "cell_type": "code",
   "execution_count": 6,
   "metadata": {},
   "outputs": [
    {
     "data": {
      "text/plain": [
       "LAYING                1944\n",
       "STANDING              1906\n",
       "SITTING               1777\n",
       "WALKING               1722\n",
       "WALKING_UPSTAIRS      1544\n",
       "WALKING_DOWNSTAIRS    1406\n",
       "Name: Activity, dtype: int64"
      ]
     },
     "execution_count": 6,
     "metadata": {},
     "output_type": "execute_result"
    }
   ],
   "source": [
    "data.Activity.value_counts()"
   ]
  },
  {
   "cell_type": "markdown",
   "metadata": {},
   "source": [
    "Scikit learn classifiers won't accept a sparse matrix for the prediction column. Thus, either `LabelEncoder` needs to be used to convert the activity labels to integers, or if `DictVectorizer` is used, the resulting matrix must be converted to a non-sparse array.  \n",
    "Use `LabelEncoder` to fit_transform the \"Activity\" column, and look at 5 random values."
   ]
  },
  {
   "cell_type": "code",
   "execution_count": 7,
   "metadata": {},
   "outputs": [
    {
     "data": {
      "text/plain": [
       "8835    4\n",
       "3165    3\n",
       "7291    3\n",
       "8330    0\n",
       "4722    2\n",
       "Name: Activity, dtype: int64"
      ]
     },
     "execution_count": 7,
     "metadata": {},
     "output_type": "execute_result"
    }
   ],
   "source": [
    "from sklearn.preprocessing import LabelEncoder\n",
    "\n",
    "le = LabelEncoder()\n",
    "data['Activity'] = le.fit_transform(data.Activity)\n",
    "data['Activity'].sample(5)"
   ]
  },
  {
   "cell_type": "markdown",
   "metadata": {},
   "source": [
    "## Question 2\n",
    "\n",
    "* Calculate the correlations between the dependent variables.\n",
    "* Create a histogram of the correlation values\n",
    "* Identify those that are most correlated (either positively or negatively)."
   ]
  },
  {
   "cell_type": "code",
   "execution_count": 8,
   "metadata": {},
   "outputs": [
    {
     "name": "stdout",
     "output_type": "stream",
     "text": [
      "(561, 561)\n"
     ]
    },
    {
     "data": {
      "text/plain": [
       "(157080, 4)"
      ]
     },
     "execution_count": 8,
     "metadata": {},
     "output_type": "execute_result"
    }
   ],
   "source": [
    "# Calculate the correlation values\n",
    "feature_cols = data.columns[:-1]\n",
    "corr_values = data[feature_cols].corr()\n",
    "print(corr_values.shape)\n",
    "\n",
    "# Simplify by emptying all the data below the diagonal\n",
    "tril_index = np.tril_indices_from(corr_values)\n",
    "#print(tril_index)\n",
    "# Make the unused values NaNs\n",
    "for coord in zip(*tril_index):\n",
    "    corr_values.iloc[coord[0], coord[1]] = np.NaN\n",
    "    \n",
    "# Stack the data and convert to a data frame\n",
    "corr_values = (corr_values.stack().to_frame().reset_index().rename(columns={'level_0':'feature1','level_1':'feature2',0:'correlation'}))\n",
    "#corr_values = (corr_values.stack().to_frame())\n",
    "#print(corr_values)\n",
    "# Get the absolute values for sorting\n",
    "corr_values['abs_correlation'] = corr_values.correlation.abs()\n",
    "corr_values.shape"
   ]
  },
  {
   "cell_type": "markdown",
   "metadata": {},
   "source": [
    "A histogram of the absolute value correlations."
   ]
  },
  {
   "cell_type": "code",
   "execution_count": 9,
   "metadata": {
    "collapsed": true
   },
   "outputs": [],
   "source": [
    "import matplotlib.pyplot as plt\n",
    "import seaborn as sns\n",
    "%matplotlib inline"
   ]
  },
  {
   "cell_type": "code",
   "execution_count": 10,
   "metadata": {},
   "outputs": [
    {
     "data": {
      "image/png": "[encoded data removed]",
      "text/plain": [
       "<matplotlib.figure.Figure at 0x7f9510104898>"
      ]
     },
     "metadata": {},
     "output_type": "display_data"
    }
   ],
   "source": [
    "sns.set_context('talk')\n",
    "sns.set_style('white')\n",
    "sns.set_palette('dark')\n",
    "\n",
    "ax = corr_values.abs_correlation.hist(bins=50)\n",
    "\n",
    "ax.set(xlabel='Absolute Correlation', ylabel='Frequency');"
   ]
  },
  {
   "cell_type": "code",
   "execution_count": 11,
   "metadata": {},
   "outputs": [
    {
     "data": {
      "text/html": [
       "<div>\n",
       "<style>\n",
       "    .dataframe thead tr:only-child th {\n",
       "        text-align: right;\n",
       "    }\n",
       "\n",
       "    .dataframe thead th {\n",
       "        text-align: left;\n",
       "    }\n",
       "\n",
       "    .dataframe tbody tr th {\n",
       "        vertical-align: top;\n",
       "    }\n",
       "</style>\n",
       "<table border=\"1\" class=\"dataframe\">\n",
       "  <thead>\n",
       "    <tr style=\"text-align: right;\">\n",
       "      <th></th>\n",
       "      <th>feature1</th>\n",
       "      <th>feature2</th>\n",
       "      <th>correlation</th>\n",
       "      <th>abs_correlation</th>\n",
       "    </tr>\n",
       "  </thead>\n",
       "  <tbody>\n",
       "    <tr>\n",
       "      <th>156894</th>\n",
       "      <td>fBodyBodyGyroJerkMag-mean()</td>\n",
       "      <td>fBodyBodyGyroJerkMag-sma()</td>\n",
       "      <td>1.000000</td>\n",
       "      <td>1.000000</td>\n",
       "    </tr>\n",
       "    <tr>\n",
       "      <th>93902</th>\n",
       "      <td>tBodyAccMag-sma()</td>\n",
       "      <td>tGravityAccMag-sma()</td>\n",
       "      <td>1.000000</td>\n",
       "      <td>1.000000</td>\n",
       "    </tr>\n",
       "    <tr>\n",
       "      <th>101139</th>\n",
       "      <td>tBodyAccJerkMag-mean()</td>\n",
       "      <td>tBodyAccJerkMag-sma()</td>\n",
       "      <td>1.000000</td>\n",
       "      <td>1.000000</td>\n",
       "    </tr>\n",
       "    <tr>\n",
       "      <th>96706</th>\n",
       "      <td>tGravityAccMag-mean()</td>\n",
       "      <td>tGravityAccMag-sma()</td>\n",
       "      <td>1.000000</td>\n",
       "      <td>1.000000</td>\n",
       "    </tr>\n",
       "    <tr>\n",
       "      <th>94257</th>\n",
       "      <td>tBodyAccMag-energy()</td>\n",
       "      <td>tGravityAccMag-energy()</td>\n",
       "      <td>1.000000</td>\n",
       "      <td>1.000000</td>\n",
       "    </tr>\n",
       "    <tr>\n",
       "      <th>92472</th>\n",
       "      <td>tBodyAccMag-std()</td>\n",
       "      <td>tGravityAccMag-std()</td>\n",
       "      <td>1.000000</td>\n",
       "      <td>1.000000</td>\n",
       "    </tr>\n",
       "    <tr>\n",
       "      <th>156049</th>\n",
       "      <td>fBodyBodyAccJerkMag-mean()</td>\n",
       "      <td>fBodyBodyAccJerkMag-sma()</td>\n",
       "      <td>1.000000</td>\n",
       "      <td>1.000000</td>\n",
       "    </tr>\n",
       "    <tr>\n",
       "      <th>95316</th>\n",
       "      <td>tBodyAccMag-arCoeff()1</td>\n",
       "      <td>tGravityAccMag-arCoeff()1</td>\n",
       "      <td>1.000000</td>\n",
       "      <td>1.000000</td>\n",
       "    </tr>\n",
       "    <tr>\n",
       "      <th>93189</th>\n",
       "      <td>tBodyAccMag-max()</td>\n",
       "      <td>tGravityAccMag-max()</td>\n",
       "      <td>1.000000</td>\n",
       "      <td>1.000000</td>\n",
       "    </tr>\n",
       "    <tr>\n",
       "      <th>95667</th>\n",
       "      <td>tBodyAccMag-arCoeff()2</td>\n",
       "      <td>tGravityAccMag-arCoeff()2</td>\n",
       "      <td>1.000000</td>\n",
       "      <td>1.000000</td>\n",
       "    </tr>\n",
       "    <tr>\n",
       "      <th>155373</th>\n",
       "      <td>fBodyAccMag-mean()</td>\n",
       "      <td>fBodyAccMag-sma()</td>\n",
       "      <td>1.000000</td>\n",
       "      <td>1.000000</td>\n",
       "    </tr>\n",
       "    <tr>\n",
       "      <th>109498</th>\n",
       "      <td>tBodyGyroJerkMag-mean()</td>\n",
       "      <td>tBodyGyroJerkMag-sma()</td>\n",
       "      <td>1.000000</td>\n",
       "      <td>1.000000</td>\n",
       "    </tr>\n",
       "    <tr>\n",
       "      <th>156556</th>\n",
       "      <td>fBodyBodyGyroMag-mean()</td>\n",
       "      <td>fBodyBodyGyroMag-sma()</td>\n",
       "      <td>1.000000</td>\n",
       "      <td>1.000000</td>\n",
       "    </tr>\n",
       "    <tr>\n",
       "      <th>96017</th>\n",
       "      <td>tBodyAccMag-arCoeff()3</td>\n",
       "      <td>tGravityAccMag-arCoeff()3</td>\n",
       "      <td>1.000000</td>\n",
       "      <td>1.000000</td>\n",
       "    </tr>\n",
       "    <tr>\n",
       "      <th>96366</th>\n",
       "      <td>tBodyAccMag-arCoeff()4</td>\n",
       "      <td>tGravityAccMag-arCoeff()4</td>\n",
       "      <td>1.000000</td>\n",
       "      <td>1.000000</td>\n",
       "    </tr>\n",
       "    <tr>\n",
       "      <th>93897</th>\n",
       "      <td>tBodyAccMag-sma()</td>\n",
       "      <td>tGravityAccMag-mean()</td>\n",
       "      <td>1.000000</td>\n",
       "      <td>1.000000</td>\n",
       "    </tr>\n",
       "    <tr>\n",
       "      <th>92104</th>\n",
       "      <td>tBodyAccMag-mean()</td>\n",
       "      <td>tBodyAccMag-sma()</td>\n",
       "      <td>1.000000</td>\n",
       "      <td>1.000000</td>\n",
       "    </tr>\n",
       "    <tr>\n",
       "      <th>92112</th>\n",
       "      <td>tBodyAccMag-mean()</td>\n",
       "      <td>tGravityAccMag-mean()</td>\n",
       "      <td>1.000000</td>\n",
       "      <td>1.000000</td>\n",
       "    </tr>\n",
       "    <tr>\n",
       "      <th>92117</th>\n",
       "      <td>tBodyAccMag-mean()</td>\n",
       "      <td>tGravityAccMag-sma()</td>\n",
       "      <td>1.000000</td>\n",
       "      <td>1.000000</td>\n",
       "    </tr>\n",
       "    <tr>\n",
       "      <th>94964</th>\n",
       "      <td>tBodyAccMag-entropy()</td>\n",
       "      <td>tGravityAccMag-entropy()</td>\n",
       "      <td>1.000000</td>\n",
       "      <td>1.000000</td>\n",
       "    </tr>\n",
       "    <tr>\n",
       "      <th>94611</th>\n",
       "      <td>tBodyAccMag-iqr()</td>\n",
       "      <td>tGravityAccMag-iqr()</td>\n",
       "      <td>1.000000</td>\n",
       "      <td>1.000000</td>\n",
       "    </tr>\n",
       "    <tr>\n",
       "      <th>105403</th>\n",
       "      <td>tBodyGyroMag-mean()</td>\n",
       "      <td>tBodyGyroMag-sma()</td>\n",
       "      <td>1.000000</td>\n",
       "      <td>1.000000</td>\n",
       "    </tr>\n",
       "    <tr>\n",
       "      <th>92831</th>\n",
       "      <td>tBodyAccMag-mad()</td>\n",
       "      <td>tGravityAccMag-mad()</td>\n",
       "      <td>1.000000</td>\n",
       "      <td>1.000000</td>\n",
       "    </tr>\n",
       "    <tr>\n",
       "      <th>93546</th>\n",
       "      <td>tBodyAccMag-min()</td>\n",
       "      <td>tGravityAccMag-min()</td>\n",
       "      <td>1.000000</td>\n",
       "      <td>1.000000</td>\n",
       "    </tr>\n",
       "    <tr>\n",
       "      <th>50390</th>\n",
       "      <td>tBodyAccJerk-energy()-Z</td>\n",
       "      <td>fBodyAccJerk-energy()-Z</td>\n",
       "      <td>1.000000</td>\n",
       "      <td>1.000000</td>\n",
       "    </tr>\n",
       "    <tr>\n",
       "      <th>49927</th>\n",
       "      <td>tBodyAccJerk-energy()-Y</td>\n",
       "      <td>fBodyAccJerk-energy()-Y</td>\n",
       "      <td>1.000000</td>\n",
       "      <td>1.000000</td>\n",
       "    </tr>\n",
       "    <tr>\n",
       "      <th>49463</th>\n",
       "      <td>tBodyAccJerk-energy()-X</td>\n",
       "      <td>fBodyAccJerk-energy()-X</td>\n",
       "      <td>0.999999</td>\n",
       "      <td>0.999999</td>\n",
       "    </tr>\n",
       "    <tr>\n",
       "      <th>118052</th>\n",
       "      <td>fBodyAcc-energy()-X</td>\n",
       "      <td>fBodyAcc-bandsEnergy()-1,24</td>\n",
       "      <td>0.999864</td>\n",
       "      <td>0.999864</td>\n",
       "    </tr>\n",
       "    <tr>\n",
       "      <th>149731</th>\n",
       "      <td>fBodyGyro-energy()-X</td>\n",
       "      <td>fBodyGyro-bandsEnergy()-1,24</td>\n",
       "      <td>0.999773</td>\n",
       "      <td>0.999773</td>\n",
       "    </tr>\n",
       "    <tr>\n",
       "      <th>118344</th>\n",
       "      <td>fBodyAcc-energy()-Y</td>\n",
       "      <td>fBodyAcc-bandsEnergy()-1,24.1</td>\n",
       "      <td>0.999635</td>\n",
       "      <td>0.999635</td>\n",
       "    </tr>\n",
       "    <tr>\n",
       "      <th>...</th>\n",
       "      <td>...</td>\n",
       "      <td>...</td>\n",
       "      <td>...</td>\n",
       "      <td>...</td>\n",
       "    </tr>\n",
       "    <tr>\n",
       "      <th>1685</th>\n",
       "      <td>tBodyAcc-std()-X</td>\n",
       "      <td>tBodyAcc-min()-X</td>\n",
       "      <td>-0.965073</td>\n",
       "      <td>0.965073</td>\n",
       "    </tr>\n",
       "    <tr>\n",
       "      <th>78482</th>\n",
       "      <td>tBodyGyroJerk-std()-Y</td>\n",
       "      <td>tBodyGyroJerk-min()-Y</td>\n",
       "      <td>-0.965441</td>\n",
       "      <td>0.965441</td>\n",
       "    </tr>\n",
       "    <tr>\n",
       "      <th>6906</th>\n",
       "      <td>tBodyAcc-min()-X</td>\n",
       "      <td>fBodyAcc-mean()-X</td>\n",
       "      <td>-0.965633</td>\n",
       "      <td>0.965633</td>\n",
       "    </tr>\n",
       "    <tr>\n",
       "      <th>7454</th>\n",
       "      <td>tBodyAcc-min()-Y</td>\n",
       "      <td>fBodyAcc-mean()-Y</td>\n",
       "      <td>-0.966045</td>\n",
       "      <td>0.966045</td>\n",
       "    </tr>\n",
       "    <tr>\n",
       "      <th>48059</th>\n",
       "      <td>tBodyAccJerk-min()-Y</td>\n",
       "      <td>fBodyAccJerk-mad()-Y</td>\n",
       "      <td>-0.966159</td>\n",
       "      <td>0.966159</td>\n",
       "    </tr>\n",
       "    <tr>\n",
       "      <th>48053</th>\n",
       "      <td>tBodyAccJerk-min()-Y</td>\n",
       "      <td>fBodyAccJerk-mean()-Y</td>\n",
       "      <td>-0.966302</td>\n",
       "      <td>0.966302</td>\n",
       "    </tr>\n",
       "    <tr>\n",
       "      <th>48526</th>\n",
       "      <td>tBodyAccJerk-min()-Z</td>\n",
       "      <td>fBodyAccJerk-mad()-Z</td>\n",
       "      <td>-0.966982</td>\n",
       "      <td>0.966982</td>\n",
       "    </tr>\n",
       "    <tr>\n",
       "      <th>48520</th>\n",
       "      <td>tBodyAccJerk-min()-Z</td>\n",
       "      <td>fBodyAccJerk-mean()-Z</td>\n",
       "      <td>-0.967177</td>\n",
       "      <td>0.967177</td>\n",
       "    </tr>\n",
       "    <tr>\n",
       "      <th>82083</th>\n",
       "      <td>tBodyGyroJerk-min()-Y</td>\n",
       "      <td>tBodyGyroJerkMag-max()</td>\n",
       "      <td>-0.967179</td>\n",
       "      <td>0.967179</td>\n",
       "    </tr>\n",
       "    <tr>\n",
       "      <th>43562</th>\n",
       "      <td>tBodyAccJerk-std()-Y</td>\n",
       "      <td>tBodyAccJerk-min()-Y</td>\n",
       "      <td>-0.967283</td>\n",
       "      <td>0.967283</td>\n",
       "    </tr>\n",
       "    <tr>\n",
       "      <th>44038</th>\n",
       "      <td>tBodyAccJerk-std()-Z</td>\n",
       "      <td>tBodyAccJerk-min()-Z</td>\n",
       "      <td>-0.969258</td>\n",
       "      <td>0.969258</td>\n",
       "    </tr>\n",
       "    <tr>\n",
       "      <th>26772</th>\n",
       "      <td>tGravityAcc-max()-X</td>\n",
       "      <td>angle(X,gravityMean)</td>\n",
       "      <td>-0.986279</td>\n",
       "      <td>0.986279</td>\n",
       "    </tr>\n",
       "    <tr>\n",
       "      <th>37275</th>\n",
       "      <td>tGravityAcc-arCoeff()-Y,3</td>\n",
       "      <td>tGravityAcc-arCoeff()-Y,4</td>\n",
       "      <td>-0.987415</td>\n",
       "      <td>0.987415</td>\n",
       "    </tr>\n",
       "    <tr>\n",
       "      <th>34815</th>\n",
       "      <td>tGravityAcc-arCoeff()-X,2</td>\n",
       "      <td>tGravityAcc-arCoeff()-X,3</td>\n",
       "      <td>-0.988755</td>\n",
       "      <td>0.988755</td>\n",
       "    </tr>\n",
       "    <tr>\n",
       "      <th>28299</th>\n",
       "      <td>tGravityAcc-min()-X</td>\n",
       "      <td>angle(X,gravityMean)</td>\n",
       "      <td>-0.988757</td>\n",
       "      <td>0.988757</td>\n",
       "    </tr>\n",
       "    <tr>\n",
       "      <th>35309</th>\n",
       "      <td>tGravityAcc-arCoeff()-X,3</td>\n",
       "      <td>tGravityAcc-arCoeff()-X,4</td>\n",
       "      <td>-0.989192</td>\n",
       "      <td>0.989192</td>\n",
       "    </tr>\n",
       "    <tr>\n",
       "      <th>22137</th>\n",
       "      <td>tGravityAcc-mean()-X</td>\n",
       "      <td>angle(X,gravityMean)</td>\n",
       "      <td>-0.989280</td>\n",
       "      <td>0.989280</td>\n",
       "    </tr>\n",
       "    <tr>\n",
       "      <th>36785</th>\n",
       "      <td>tGravityAcc-arCoeff()-Y,2</td>\n",
       "      <td>tGravityAcc-arCoeff()-Y,3</td>\n",
       "      <td>-0.989299</td>\n",
       "      <td>0.989299</td>\n",
       "    </tr>\n",
       "    <tr>\n",
       "      <th>34320</th>\n",
       "      <td>tGravityAcc-arCoeff()-X,1</td>\n",
       "      <td>tGravityAcc-arCoeff()-X,2</td>\n",
       "      <td>-0.989335</td>\n",
       "      <td>0.989335</td>\n",
       "    </tr>\n",
       "    <tr>\n",
       "      <th>30321</th>\n",
       "      <td>tGravityAcc-energy()-X</td>\n",
       "      <td>angle(X,gravityMean)</td>\n",
       "      <td>-0.990372</td>\n",
       "      <td>0.990372</td>\n",
       "    </tr>\n",
       "    <tr>\n",
       "      <th>28807</th>\n",
       "      <td>tGravityAcc-min()-Y</td>\n",
       "      <td>angle(Y,gravityMean)</td>\n",
       "      <td>-0.990459</td>\n",
       "      <td>0.990459</td>\n",
       "    </tr>\n",
       "    <tr>\n",
       "      <th>29314</th>\n",
       "      <td>tGravityAcc-min()-Z</td>\n",
       "      <td>angle(Z,gravityMean)</td>\n",
       "      <td>-0.990748</td>\n",
       "      <td>0.990748</td>\n",
       "    </tr>\n",
       "    <tr>\n",
       "      <th>27283</th>\n",
       "      <td>tGravityAcc-max()-Y</td>\n",
       "      <td>angle(Y,gravityMean)</td>\n",
       "      <td>-0.991255</td>\n",
       "      <td>0.991255</td>\n",
       "    </tr>\n",
       "    <tr>\n",
       "      <th>36294</th>\n",
       "      <td>tGravityAcc-arCoeff()-Y,1</td>\n",
       "      <td>tGravityAcc-arCoeff()-Y,2</td>\n",
       "      <td>-0.991609</td>\n",
       "      <td>0.991609</td>\n",
       "    </tr>\n",
       "    <tr>\n",
       "      <th>27793</th>\n",
       "      <td>tGravityAcc-max()-Z</td>\n",
       "      <td>angle(Z,gravityMean)</td>\n",
       "      <td>-0.992689</td>\n",
       "      <td>0.992689</td>\n",
       "    </tr>\n",
       "    <tr>\n",
       "      <th>22657</th>\n",
       "      <td>tGravityAcc-mean()-Y</td>\n",
       "      <td>angle(Y,gravityMean)</td>\n",
       "      <td>-0.993425</td>\n",
       "      <td>0.993425</td>\n",
       "    </tr>\n",
       "    <tr>\n",
       "      <th>39225</th>\n",
       "      <td>tGravityAcc-arCoeff()-Z,3</td>\n",
       "      <td>tGravityAcc-arCoeff()-Z,4</td>\n",
       "      <td>-0.994267</td>\n",
       "      <td>0.994267</td>\n",
       "    </tr>\n",
       "    <tr>\n",
       "      <th>38739</th>\n",
       "      <td>tGravityAcc-arCoeff()-Z,2</td>\n",
       "      <td>tGravityAcc-arCoeff()-Z,3</td>\n",
       "      <td>-0.994628</td>\n",
       "      <td>0.994628</td>\n",
       "    </tr>\n",
       "    <tr>\n",
       "      <th>23176</th>\n",
       "      <td>tGravityAcc-mean()-Z</td>\n",
       "      <td>angle(Z,gravityMean)</td>\n",
       "      <td>-0.994764</td>\n",
       "      <td>0.994764</td>\n",
       "    </tr>\n",
       "    <tr>\n",
       "      <th>38252</th>\n",
       "      <td>tGravityAcc-arCoeff()-Z,1</td>\n",
       "      <td>tGravityAcc-arCoeff()-Z,2</td>\n",
       "      <td>-0.995195</td>\n",
       "      <td>0.995195</td>\n",
       "    </tr>\n",
       "  </tbody>\n",
       "</table>\n",
       "<p>22815 rows × 4 columns</p>\n",
       "</div>"
      ],
      "text/plain": [
       "                           feature1                       feature2  \\\n",
       "156894  fBodyBodyGyroJerkMag-mean()     fBodyBodyGyroJerkMag-sma()   \n",
       "93902             tBodyAccMag-sma()           tGravityAccMag-sma()   \n",
       "101139       tBodyAccJerkMag-mean()          tBodyAccJerkMag-sma()   \n",
       "96706         tGravityAccMag-mean()           tGravityAccMag-sma()   \n",
       "94257          tBodyAccMag-energy()        tGravityAccMag-energy()   \n",
       "92472             tBodyAccMag-std()           tGravityAccMag-std()   \n",
       "156049   fBodyBodyAccJerkMag-mean()      fBodyBodyAccJerkMag-sma()   \n",
       "95316        tBodyAccMag-arCoeff()1      tGravityAccMag-arCoeff()1   \n",
       "93189             tBodyAccMag-max()           tGravityAccMag-max()   \n",
       "95667        tBodyAccMag-arCoeff()2      tGravityAccMag-arCoeff()2   \n",
       "155373           fBodyAccMag-mean()              fBodyAccMag-sma()   \n",
       "109498      tBodyGyroJerkMag-mean()         tBodyGyroJerkMag-sma()   \n",
       "156556      fBodyBodyGyroMag-mean()         fBodyBodyGyroMag-sma()   \n",
       "96017        tBodyAccMag-arCoeff()3      tGravityAccMag-arCoeff()3   \n",
       "96366        tBodyAccMag-arCoeff()4      tGravityAccMag-arCoeff()4   \n",
       "93897             tBodyAccMag-sma()          tGravityAccMag-mean()   \n",
       "92104            tBodyAccMag-mean()              tBodyAccMag-sma()   \n",
       "92112            tBodyAccMag-mean()          tGravityAccMag-mean()   \n",
       "92117            tBodyAccMag-mean()           tGravityAccMag-sma()   \n",
       "94964         tBodyAccMag-entropy()       tGravityAccMag-entropy()   \n",
       "94611             tBodyAccMag-iqr()           tGravityAccMag-iqr()   \n",
       "105403          tBodyGyroMag-mean()             tBodyGyroMag-sma()   \n",
       "92831             tBodyAccMag-mad()           tGravityAccMag-mad()   \n",
       "93546             tBodyAccMag-min()           tGravityAccMag-min()   \n",
       "50390       tBodyAccJerk-energy()-Z        fBodyAccJerk-energy()-Z   \n",
       "49927       tBodyAccJerk-energy()-Y        fBodyAccJerk-energy()-Y   \n",
       "49463       tBodyAccJerk-energy()-X        fBodyAccJerk-energy()-X   \n",
       "118052          fBodyAcc-energy()-X    fBodyAcc-bandsEnergy()-1,24   \n",
       "149731         fBodyGyro-energy()-X   fBodyGyro-bandsEnergy()-1,24   \n",
       "118344          fBodyAcc-energy()-Y  fBodyAcc-bandsEnergy()-1,24.1   \n",
       "...                             ...                            ...   \n",
       "1685               tBodyAcc-std()-X               tBodyAcc-min()-X   \n",
       "78482         tBodyGyroJerk-std()-Y          tBodyGyroJerk-min()-Y   \n",
       "6906               tBodyAcc-min()-X              fBodyAcc-mean()-X   \n",
       "7454               tBodyAcc-min()-Y              fBodyAcc-mean()-Y   \n",
       "48059          tBodyAccJerk-min()-Y           fBodyAccJerk-mad()-Y   \n",
       "48053          tBodyAccJerk-min()-Y          fBodyAccJerk-mean()-Y   \n",
       "48526          tBodyAccJerk-min()-Z           fBodyAccJerk-mad()-Z   \n",
       "48520          tBodyAccJerk-min()-Z          fBodyAccJerk-mean()-Z   \n",
       "82083         tBodyGyroJerk-min()-Y         tBodyGyroJerkMag-max()   \n",
       "43562          tBodyAccJerk-std()-Y           tBodyAccJerk-min()-Y   \n",
       "44038          tBodyAccJerk-std()-Z           tBodyAccJerk-min()-Z   \n",
       "26772           tGravityAcc-max()-X           angle(X,gravityMean)   \n",
       "37275     tGravityAcc-arCoeff()-Y,3      tGravityAcc-arCoeff()-Y,4   \n",
       "34815     tGravityAcc-arCoeff()-X,2      tGravityAcc-arCoeff()-X,3   \n",
       "28299           tGravityAcc-min()-X           angle(X,gravityMean)   \n",
       "35309     tGravityAcc-arCoeff()-X,3      tGravityAcc-arCoeff()-X,4   \n",
       "22137          tGravityAcc-mean()-X           angle(X,gravityMean)   \n",
       "36785     tGravityAcc-arCoeff()-Y,2      tGravityAcc-arCoeff()-Y,3   \n",
       "34320     tGravityAcc-arCoeff()-X,1      tGravityAcc-arCoeff()-X,2   \n",
       "30321        tGravityAcc-energy()-X           angle(X,gravityMean)   \n",
       "28807           tGravityAcc-min()-Y           angle(Y,gravityMean)   \n",
       "29314           tGravityAcc-min()-Z           angle(Z,gravityMean)   \n",
       "27283           tGravityAcc-max()-Y           angle(Y,gravityMean)   \n",
       "36294     tGravityAcc-arCoeff()-Y,1      tGravityAcc-arCoeff()-Y,2   \n",
       "27793           tGravityAcc-max()-Z           angle(Z,gravityMean)   \n",
       "22657          tGravityAcc-mean()-Y           angle(Y,gravityMean)   \n",
       "39225     tGravityAcc-arCoeff()-Z,3      tGravityAcc-arCoeff()-Z,4   \n",
       "38739     tGravityAcc-arCoeff()-Z,2      tGravityAcc-arCoeff()-Z,3   \n",
       "23176          tGravityAcc-mean()-Z           angle(Z,gravityMean)   \n",
       "38252     tGravityAcc-arCoeff()-Z,1      tGravityAcc-arCoeff()-Z,2   \n",
       "\n",
       "        correlation  abs_correlation  \n",
       "156894     1.000000         1.000000  \n",
       "93902      1.000000         1.000000  \n",
       "101139     1.000000         1.000000  \n",
       "96706      1.000000         1.000000  \n",
       "94257      1.000000         1.000000  \n",
       "92472      1.000000         1.000000  \n",
       "156049     1.000000         1.000000  \n",
       "95316      1.000000         1.000000  \n",
       "93189      1.000000         1.000000  \n",
       "95667      1.000000         1.000000  \n",
       "155373     1.000000         1.000000  \n",
       "109498     1.000000         1.000000  \n",
       "156556     1.000000         1.000000  \n",
       "96017      1.000000         1.000000  \n",
       "96366      1.000000         1.000000  \n",
       "93897      1.000000         1.000000  \n",
       "92104      1.000000         1.000000  \n",
       "92112      1.000000         1.000000  \n",
       "92117      1.000000         1.000000  \n",
       "94964      1.000000         1.000000  \n",
       "94611      1.000000         1.000000  \n",
       "105403     1.000000         1.000000  \n",
       "92831      1.000000         1.000000  \n",
       "93546      1.000000         1.000000  \n",
       "50390      1.000000         1.000000  \n",
       "49927      1.000000         1.000000  \n",
       "49463      0.999999         0.999999  \n",
       "118052     0.999864         0.999864  \n",
       "149731     0.999773         0.999773  \n",
       "118344     0.999635         0.999635  \n",
       "...             ...              ...  \n",
       "1685      -0.965073         0.965073  \n",
       "78482     -0.965441         0.965441  \n",
       "6906      -0.965633         0.965633  \n",
       "7454      -0.966045         0.966045  \n",
       "48059     -0.966159         0.966159  \n",
       "48053     -0.966302         0.966302  \n",
       "48526     -0.966982         0.966982  \n",
       "48520     -0.967177         0.967177  \n",
       "82083     -0.967179         0.967179  \n",
       "43562     -0.967283         0.967283  \n",
       "44038     -0.969258         0.969258  \n",
       "26772     -0.986279         0.986279  \n",
       "37275     -0.987415         0.987415  \n",
       "34815     -0.988755         0.988755  \n",
       "28299     -0.988757         0.988757  \n",
       "35309     -0.989192         0.989192  \n",
       "22137     -0.989280         0.989280  \n",
       "36785     -0.989299         0.989299  \n",
       "34320     -0.989335         0.989335  \n",
       "30321     -0.990372         0.990372  \n",
       "28807     -0.990459         0.990459  \n",
       "29314     -0.990748         0.990748  \n",
       "27283     -0.991255         0.991255  \n",
       "36294     -0.991609         0.991609  \n",
       "27793     -0.992689         0.992689  \n",
       "22657     -0.993425         0.993425  \n",
       "39225     -0.994267         0.994267  \n",
       "38739     -0.994628         0.994628  \n",
       "23176     -0.994764         0.994764  \n",
       "38252     -0.995195         0.995195  \n",
       "\n",
       "[22815 rows x 4 columns]"
      ]
     },
     "execution_count": 11,
     "metadata": {},
     "output_type": "execute_result"
    }
   ],
   "source": [
    "# The most highly correlated values\n",
    "corr_values.sort_values('correlation', ascending=False).query('abs_correlation>0.8')"
   ]
  },
  {
   "cell_type": "markdown",
   "metadata": {},
   "source": [
    "## Question 3\n",
    "\n",
    "* Split the data into train and test data sets. This can be done using any method, but consider using Scikit-learn's `StratifiedShuffleSplit` to maintain the same ratio of predictor classes.\n",
    "* Regardless of methods used to split the data, compare the ratio of classes in both the train and test splits.\n"
   ]
  },
  {
   "cell_type": "code",
   "execution_count": 12,
   "metadata": {},
   "outputs": [
    {
     "name": "stdout",
     "output_type": "stream",
     "text": [
      "(10299, 561) Index(['tBodyAcc-mean()-X', 'tBodyAcc-mean()-Y', 'tBodyAcc-mean()-Z',\n",
      "       'tBodyAcc-std()-X', 'tBodyAcc-std()-Y', 'tBodyAcc-std()-Z',\n",
      "       'tBodyAcc-mad()-X', 'tBodyAcc-mad()-Y', 'tBodyAcc-mad()-Z',\n",
      "       'tBodyAcc-max()-X',\n",
      "       ...\n",
      "       'fBodyBodyGyroJerkMag-meanFreq()', 'fBodyBodyGyroJerkMag-skewness()',\n",
      "       'fBodyBodyGyroJerkMag-kurtosis()', 'angle(tBodyAccMean,gravity)',\n",
      "       'angle(tBodyAccJerkMean),gravityMean)',\n",
      "       'angle(tBodyGyroMean,gravityMean)',\n",
      "       'angle(tBodyGyroJerkMean,gravityMean)', 'angle(X,gravityMean)',\n",
      "       'angle(Y,gravityMean)', 'angle(Z,gravityMean)'],\n",
      "      dtype='object', length=561)\n",
      "(7209, 561) (3090, 561)\n"
     ]
    }
   ],
   "source": [
    "from sklearn.model_selection import StratifiedShuffleSplit\n",
    "\n",
    "# Get the split indexes\n",
    "strat_shuf_split = StratifiedShuffleSplit(n_splits=1,test_size=0.3, random_state=42)\n",
    "\n",
    "train_idx, test_idx = next(strat_shuf_split.split(data[feature_cols], data.Activity))\n",
    "print(data[feature_cols].shape, feature_cols)\n",
    "# Create the dataframes\n",
    "X_train = data.loc[train_idx, feature_cols]\n",
    "y_train = data.loc[train_idx, 'Activity']\n",
    "\n",
    "X_test  = data.loc[test_idx, feature_cols]\n",
    "y_test  = data.loc[test_idx, 'Activity']\n",
    "print(X_train.shape, X_test.shape)"
   ]
  },
  {
   "cell_type": "code",
   "execution_count": 13,
   "metadata": {
    "collapsed": true
   },
   "outputs": [],
   "source": [
    "#X_train"
   ]
  },
  {
   "cell_type": "code",
   "execution_count": 13,
   "metadata": {
    "scrolled": true
   },
   "outputs": [
    {
     "data": {
      "text/plain": [
       "0    0.188792\n",
       "2    0.185046\n",
       "1    0.172562\n",
       "3    0.167152\n",
       "5    0.149951\n",
       "4    0.136496\n",
       "Name: Activity, dtype: float64"
      ]
     },
     "execution_count": 13,
     "metadata": {},
     "output_type": "execute_result"
    }
   ],
   "source": [
    "y_train.value_counts(normalize=True)"
   ]
  },
  {
   "cell_type": "markdown",
   "metadata": {},
   "source": [
    "## Question 4\n",
    "\n",
    "* Fit a logistic regression model without any regularization using all of the features. Be sure to read the documentation about fitting a multi-class model so you understand the coefficient output. Store the model.\n",
    "* Using cross validation to determine the hyperparameters, fit models using L1, and L2 regularization. Store each of these models as well. Note the limitations on multi-class models, solvers, and regularizations. The regularized models, in particular the L1 model, will probably take a while to fit."
   ]
  },
  {
   "cell_type": "code",
   "execution_count": 14,
   "metadata": {},
   "outputs": [
    {
     "name": "stdout",
     "output_type": "stream",
     "text": [
      "[[-0.08750646  0.01449275  0.03018717 ...,  1.59910474 -0.3743129\n",
      "  -0.18830925]\n",
      " [-0.44522584 -0.20104648  0.06319637 ..., -2.47309446 -0.74039698\n",
      "  -0.2980224 ]\n",
      " [ 0.25796347  0.06089227  0.24590906 ..., -0.85461228  1.77145495\n",
      "   0.41692013]\n",
      " [-0.16928095 -0.02350969  0.02234019 ..., -0.31314455 -0.24290354\n",
      "   0.0650486 ]\n",
      " [ 0.76561082  0.1079669   0.0589804  ..., -0.71269424 -0.27513866\n",
      "  -0.04236269]\n",
      " [-0.08008384 -0.24719318 -0.40252633 ...,  0.4163113   0.87672796\n",
      "   0.43881539]] [-0.00707165 -0.2757347  -0.39677219 -0.39645806 -0.30629424 -0.56067743]\n",
      "(6, 561)\n"
     ]
    },
    {
     "data": {
      "text/plain": [
       "0.98414239482200649"
      ]
     },
     "execution_count": 14,
     "metadata": {},
     "output_type": "execute_result"
    }
   ],
   "source": [
    "from sklearn.linear_model import LogisticRegression\n",
    "\n",
    "# Standard logistic regression\n",
    "lr = LogisticRegression().fit(X_train, y_train)\n",
    "print(lr.coef_,lr.intercept_ )\n",
    "print(lr.coef_.shape)\n",
    "lr.score(X_test, y_test)"
   ]
  },
  {
   "cell_type": "code",
   "execution_count": 15,
   "metadata": {},
   "outputs": [
    {
     "data": {
      "text/plain": [
       "0.98349514563106799"
      ]
     },
     "execution_count": 15,
     "metadata": {},
     "output_type": "execute_result"
    }
   ],
   "source": [
    "from sklearn.linear_model import LogisticRegressionCV\n",
    "\n",
    "# L1 regularized logistic regression\n",
    "lr_l1 = LogisticRegressionCV(Cs=10, cv=4, penalty='l1', solver='liblinear', n_jobs=2).fit(X_train, y_train)\n",
    "lr_l1.score(X_test, y_test)"
   ]
  },
  {
   "cell_type": "code",
   "execution_count": null,
   "metadata": {
    "collapsed": true
   },
   "outputs": [],
   "source": [
    "#Try with different solvers like ‘newton-cg’, ‘lbfgs’, ‘sag’, ‘saga’ and give your observations\n",
    "from sklearn.preprocessing import StandardScaler\n",
    "\n",
    "#scale = StandardScaler(copy=True)\n",
    "#X_scale = scale.fit_transform(X_train)\n",
    "# L2 sag\n",
    "lr_l3 = LogisticRegressionCV(Cs=10, cv=4, solver='sag', verbose=True, multi_class='multinomial', max_iter=200).fit(X_train, y_train)\n",
    "lr_l3.score(X_test, y_test)"
   ]
  },
  {
   "cell_type": "code",
   "execution_count": null,
   "metadata": {
    "collapsed": true
   },
   "outputs": [],
   "source": [
    "# L2 saga\n",
    "lr_l4 = LogisticRegressionCV(Cs=10, cv=4, solver='saga', multi_class='multinomial', max_iter=200, n_jobs=2).fit(X_train, y_train)\n",
    "lr_l4.score(X_test, y_test)"
   ]
  },
  {
   "cell_type": "code",
   "execution_count": null,
   "metadata": {
    "collapsed": true
   },
   "outputs": [],
   "source": [
    "# L2 lbfgs\n",
    "lr_l5 = LogisticRegressionCV(Cs=10, cv=4, solver='lbfgs').fit(X_train, y_train)\n",
    "lr_l5.score(X_test, y_test)"
   ]
  },
  {
   "cell_type": "code",
   "execution_count": null,
   "metadata": {
    "collapsed": true
   },
   "outputs": [],
   "source": [
    "# L2 newton-cg\n",
    "lr_l6 = LogisticRegressionCV(Cs=10, cv=4, solver='newton-cg').fit(X_train, y_train)\n",
    "lr_l6.score(X_test, y_test)"
   ]
  },
  {
   "cell_type": "code",
   "execution_count": 16,
   "metadata": {},
   "outputs": [
    {
     "data": {
      "text/plain": [
       "0.98414239482200649"
      ]
     },
     "execution_count": 16,
     "metadata": {},
     "output_type": "execute_result"
    }
   ],
   "source": [
    "# L2 regularized logistic regression\n",
    "lr_l2 = LogisticRegressionCV(Cs=10, cv=4, penalty='l2', n_jobs=2).fit(X_train, y_train)\n",
    "lr_l2.score(X_test, y_test)"
   ]
  },
  {
   "cell_type": "markdown",
   "metadata": {},
   "source": [
    "## Question 5\n",
    "\n",
    "Compare the magnitudes of the coefficients for each of the models. If one-vs-rest fitting was used, each set of coefficients can be plotted separately. "
   ]
  },
  {
   "cell_type": "code",
   "execution_count": 17,
   "metadata": {},
   "outputs": [
    {
     "data": {
      "text/html": [
       "<div>\n",
       "<style>\n",
       "    .dataframe thead tr:only-child th {\n",
       "        text-align: right;\n",
       "    }\n",
       "\n",
       "    .dataframe thead th {\n",
       "        text-align: left;\n",
       "    }\n",
       "\n",
       "    .dataframe tbody tr th {\n",
       "        vertical-align: top;\n",
       "    }\n",
       "</style>\n",
       "<table border=\"1\" class=\"dataframe\">\n",
       "  <thead>\n",
       "    <tr>\n",
       "      <th></th>\n",
       "      <th colspan=\"6\" halign=\"left\">lr</th>\n",
       "      <th colspan=\"6\" halign=\"left\">l1</th>\n",
       "      <th colspan=\"6\" halign=\"left\">l2</th>\n",
       "    </tr>\n",
       "    <tr>\n",
       "      <th></th>\n",
       "      <th>0</th>\n",
       "      <th>1</th>\n",
       "      <th>2</th>\n",
       "      <th>3</th>\n",
       "      <th>4</th>\n",
       "      <th>5</th>\n",
       "      <th>0</th>\n",
       "      <th>1</th>\n",
       "      <th>2</th>\n",
       "      <th>3</th>\n",
       "      <th>4</th>\n",
       "      <th>5</th>\n",
       "      <th>0</th>\n",
       "      <th>1</th>\n",
       "      <th>2</th>\n",
       "      <th>3</th>\n",
       "      <th>4</th>\n",
       "      <th>5</th>\n",
       "    </tr>\n",
       "  </thead>\n",
       "  <tbody>\n",
       "    <tr>\n",
       "      <th>457</th>\n",
       "      <td>0.121764</td>\n",
       "      <td>0.254935</td>\n",
       "      <td>-0.310945</td>\n",
       "      <td>-0.362733</td>\n",
       "      <td>-0.386567</td>\n",
       "      <td>1.046022</td>\n",
       "      <td>0.000000</td>\n",
       "      <td>0.307450</td>\n",
       "      <td>-0.637208</td>\n",
       "      <td>-0.061760</td>\n",
       "      <td>0.000000</td>\n",
       "      <td>0.958358</td>\n",
       "      <td>0.744250</td>\n",
       "      <td>0.469156</td>\n",
       "      <td>-0.576014</td>\n",
       "      <td>-2.336034</td>\n",
       "      <td>-0.615305</td>\n",
       "      <td>2.706427</td>\n",
       "    </tr>\n",
       "    <tr>\n",
       "      <th>76</th>\n",
       "      <td>-0.121530</td>\n",
       "      <td>0.131026</td>\n",
       "      <td>-0.024754</td>\n",
       "      <td>-0.140598</td>\n",
       "      <td>-0.495816</td>\n",
       "      <td>0.060472</td>\n",
       "      <td>0.000000</td>\n",
       "      <td>0.000000</td>\n",
       "      <td>0.000000</td>\n",
       "      <td>0.000000</td>\n",
       "      <td>-1.488285</td>\n",
       "      <td>-0.351227</td>\n",
       "      <td>-0.210795</td>\n",
       "      <td>0.326541</td>\n",
       "      <td>0.043730</td>\n",
       "      <td>-0.212845</td>\n",
       "      <td>-0.899821</td>\n",
       "      <td>-0.193337</td>\n",
       "    </tr>\n",
       "    <tr>\n",
       "      <th>560</th>\n",
       "      <td>-0.188309</td>\n",
       "      <td>-0.298022</td>\n",
       "      <td>0.416920</td>\n",
       "      <td>0.065049</td>\n",
       "      <td>-0.042363</td>\n",
       "      <td>0.438815</td>\n",
       "      <td>0.000000</td>\n",
       "      <td>0.000000</td>\n",
       "      <td>0.000000</td>\n",
       "      <td>0.000000</td>\n",
       "      <td>0.000000</td>\n",
       "      <td>2.152318</td>\n",
       "      <td>-0.450241</td>\n",
       "      <td>-0.268318</td>\n",
       "      <td>0.580430</td>\n",
       "      <td>0.091249</td>\n",
       "      <td>-0.134531</td>\n",
       "      <td>2.216182</td>\n",
       "    </tr>\n",
       "    <tr>\n",
       "      <th>18</th>\n",
       "      <td>0.045750</td>\n",
       "      <td>0.042636</td>\n",
       "      <td>0.337237</td>\n",
       "      <td>-0.054707</td>\n",
       "      <td>-0.242870</td>\n",
       "      <td>-0.332138</td>\n",
       "      <td>0.000000</td>\n",
       "      <td>0.000000</td>\n",
       "      <td>0.000000</td>\n",
       "      <td>0.000000</td>\n",
       "      <td>0.000000</td>\n",
       "      <td>-0.212743</td>\n",
       "      <td>0.084496</td>\n",
       "      <td>0.013113</td>\n",
       "      <td>0.489069</td>\n",
       "      <td>-0.252871</td>\n",
       "      <td>-0.405344</td>\n",
       "      <td>-1.531028</td>\n",
       "    </tr>\n",
       "    <tr>\n",
       "      <th>3</th>\n",
       "      <td>0.004590</td>\n",
       "      <td>-0.733963</td>\n",
       "      <td>-0.352732</td>\n",
       "      <td>-0.701327</td>\n",
       "      <td>0.266984</td>\n",
       "      <td>0.696120</td>\n",
       "      <td>0.000000</td>\n",
       "      <td>-1.750710</td>\n",
       "      <td>-0.245833</td>\n",
       "      <td>-1.102089</td>\n",
       "      <td>0.000000</td>\n",
       "      <td>2.926799</td>\n",
       "      <td>0.079829</td>\n",
       "      <td>-1.077956</td>\n",
       "      <td>-0.407810</td>\n",
       "      <td>-3.066785</td>\n",
       "      <td>0.261400</td>\n",
       "      <td>3.544024</td>\n",
       "    </tr>\n",
       "    <tr>\n",
       "      <th>348</th>\n",
       "      <td>-0.064602</td>\n",
       "      <td>-0.190042</td>\n",
       "      <td>-0.395608</td>\n",
       "      <td>0.462098</td>\n",
       "      <td>-0.247030</td>\n",
       "      <td>-0.266495</td>\n",
       "      <td>0.000000</td>\n",
       "      <td>0.000000</td>\n",
       "      <td>-0.133703</td>\n",
       "      <td>0.000000</td>\n",
       "      <td>0.000000</td>\n",
       "      <td>-1.122021</td>\n",
       "      <td>-0.122107</td>\n",
       "      <td>-0.252795</td>\n",
       "      <td>-0.539534</td>\n",
       "      <td>1.095953</td>\n",
       "      <td>-0.332950</td>\n",
       "      <td>-0.929984</td>\n",
       "    </tr>\n",
       "    <tr>\n",
       "      <th>86</th>\n",
       "      <td>-0.067421</td>\n",
       "      <td>-0.321993</td>\n",
       "      <td>-0.333856</td>\n",
       "      <td>0.055854</td>\n",
       "      <td>-0.141596</td>\n",
       "      <td>0.115792</td>\n",
       "      <td>0.000000</td>\n",
       "      <td>0.000000</td>\n",
       "      <td>0.000000</td>\n",
       "      <td>0.000000</td>\n",
       "      <td>0.000000</td>\n",
       "      <td>0.167049</td>\n",
       "      <td>-0.139865</td>\n",
       "      <td>-0.456617</td>\n",
       "      <td>-0.366140</td>\n",
       "      <td>-0.176742</td>\n",
       "      <td>-0.323896</td>\n",
       "      <td>0.943781</td>\n",
       "    </tr>\n",
       "    <tr>\n",
       "      <th>537</th>\n",
       "      <td>0.041935</td>\n",
       "      <td>0.217774</td>\n",
       "      <td>-0.302268</td>\n",
       "      <td>1.183666</td>\n",
       "      <td>-0.416872</td>\n",
       "      <td>-0.142686</td>\n",
       "      <td>0.000000</td>\n",
       "      <td>0.484602</td>\n",
       "      <td>-0.254600</td>\n",
       "      <td>1.414184</td>\n",
       "      <td>-0.107302</td>\n",
       "      <td>0.142662</td>\n",
       "      <td>0.144696</td>\n",
       "      <td>0.403853</td>\n",
       "      <td>-0.806394</td>\n",
       "      <td>3.777190</td>\n",
       "      <td>-1.026635</td>\n",
       "      <td>-0.211036</td>\n",
       "    </tr>\n",
       "    <tr>\n",
       "      <th>166</th>\n",
       "      <td>-0.032952</td>\n",
       "      <td>-0.365572</td>\n",
       "      <td>0.197706</td>\n",
       "      <td>0.807326</td>\n",
       "      <td>-0.963746</td>\n",
       "      <td>0.325456</td>\n",
       "      <td>0.000000</td>\n",
       "      <td>0.000000</td>\n",
       "      <td>0.000000</td>\n",
       "      <td>1.521717</td>\n",
       "      <td>-3.003025</td>\n",
       "      <td>1.032749</td>\n",
       "      <td>-0.082517</td>\n",
       "      <td>-0.654541</td>\n",
       "      <td>0.397547</td>\n",
       "      <td>3.432030</td>\n",
       "      <td>-1.903828</td>\n",
       "      <td>0.871760</td>\n",
       "    </tr>\n",
       "    <tr>\n",
       "      <th>270</th>\n",
       "      <td>0.009117</td>\n",
       "      <td>-0.348440</td>\n",
       "      <td>0.038748</td>\n",
       "      <td>0.165241</td>\n",
       "      <td>-0.522579</td>\n",
       "      <td>0.356103</td>\n",
       "      <td>0.010049</td>\n",
       "      <td>-0.768362</td>\n",
       "      <td>0.000000</td>\n",
       "      <td>0.000000</td>\n",
       "      <td>-0.556515</td>\n",
       "      <td>0.871353</td>\n",
       "      <td>0.016829</td>\n",
       "      <td>-0.577228</td>\n",
       "      <td>0.123007</td>\n",
       "      <td>1.153087</td>\n",
       "      <td>-0.873285</td>\n",
       "      <td>0.734439</td>\n",
       "    </tr>\n",
       "  </tbody>\n",
       "</table>\n",
       "</div>"
      ],
      "text/plain": [
       "           lr                                                          l1  \\\n",
       "            0         1         2         3         4         5         0   \n",
       "457  0.121764  0.254935 -0.310945 -0.362733 -0.386567  1.046022  0.000000   \n",
       "76  -0.121530  0.131026 -0.024754 -0.140598 -0.495816  0.060472  0.000000   \n",
       "560 -0.188309 -0.298022  0.416920  0.065049 -0.042363  0.438815  0.000000   \n",
       "18   0.045750  0.042636  0.337237 -0.054707 -0.242870 -0.332138  0.000000   \n",
       "3    0.004590 -0.733963 -0.352732 -0.701327  0.266984  0.696120  0.000000   \n",
       "348 -0.064602 -0.190042 -0.395608  0.462098 -0.247030 -0.266495  0.000000   \n",
       "86  -0.067421 -0.321993 -0.333856  0.055854 -0.141596  0.115792  0.000000   \n",
       "537  0.041935  0.217774 -0.302268  1.183666 -0.416872 -0.142686  0.000000   \n",
       "166 -0.032952 -0.365572  0.197706  0.807326 -0.963746  0.325456  0.000000   \n",
       "270  0.009117 -0.348440  0.038748  0.165241 -0.522579  0.356103  0.010049   \n",
       "\n",
       "                                                             l2            \\\n",
       "            1         2         3         4         5         0         1   \n",
       "457  0.307450 -0.637208 -0.061760  0.000000  0.958358  0.744250  0.469156   \n",
       "76   0.000000  0.000000  0.000000 -1.488285 -0.351227 -0.210795  0.326541   \n",
       "560  0.000000  0.000000  0.000000  0.000000  2.152318 -0.450241 -0.268318   \n",
       "18   0.000000  0.000000  0.000000  0.000000 -0.212743  0.084496  0.013113   \n",
       "3   -1.750710 -0.245833 -1.102089  0.000000  2.926799  0.079829 -1.077956   \n",
       "348  0.000000 -0.133703  0.000000  0.000000 -1.122021 -0.122107 -0.252795   \n",
       "86   0.000000  0.000000  0.000000  0.000000  0.167049 -0.139865 -0.456617   \n",
       "537  0.484602 -0.254600  1.414184 -0.107302  0.142662  0.144696  0.403853   \n",
       "166  0.000000  0.000000  1.521717 -3.003025  1.032749 -0.082517 -0.654541   \n",
       "270 -0.768362  0.000000  0.000000 -0.556515  0.871353  0.016829 -0.577228   \n",
       "\n",
       "                                             \n",
       "            2         3         4         5  \n",
       "457 -0.576014 -2.336034 -0.615305  2.706427  \n",
       "76   0.043730 -0.212845 -0.899821 -0.193337  \n",
       "560  0.580430  0.091249 -0.134531  2.216182  \n",
       "18   0.489069 -0.252871 -0.405344 -1.531028  \n",
       "3   -0.407810 -3.066785  0.261400  3.544024  \n",
       "348 -0.539534  1.095953 -0.332950 -0.929984  \n",
       "86  -0.366140 -0.176742 -0.323896  0.943781  \n",
       "537 -0.806394  3.777190 -1.026635 -0.211036  \n",
       "166  0.397547  3.432030 -1.903828  0.871760  \n",
       "270  0.123007  1.153087 -0.873285  0.734439  "
      ]
     },
     "execution_count": 17,
     "metadata": {},
     "output_type": "execute_result"
    }
   ],
   "source": [
    "# Combine all the coefficients into a dataframe\n",
    "coefficients = list()\n",
    "\n",
    "coeff_labels = ['lr', 'l1', 'l2']\n",
    "coeff_models = [lr, lr_l1, lr_l2]\n",
    "\n",
    "for lab,mod in zip(coeff_labels, coeff_models):\n",
    "    coeffs = mod.coef_\n",
    "    coeff_label = pd.MultiIndex(levels=[[lab], [0,1,2,3,4,5]], \n",
    "                                 labels=[[0,0,0,0,0,0], [0,1,2,3,4,5]])\n",
    "    coefficients.append(pd.DataFrame(coeffs.T, columns=coeff_label))\n",
    "\n",
    "coefficients = pd.concat(coefficients, axis=1)\n",
    "\n",
    "coefficients.sample(10)"
   ]
  },
  {
   "cell_type": "markdown",
   "metadata": {},
   "source": [
    "Prepare six separate plots for each of the multi-class coefficients."
   ]
  },
  {
   "cell_type": "code",
   "execution_count": 18,
   "metadata": {},
   "outputs": [
    {
     "data": {
      "image/png": "[encoded data removed]",
      "text/plain": [
       "<matplotlib.figure.Figure at 0x7f39e4f68f28>"
      ]
     },
     "metadata": {},
     "output_type": "display_data"
    }
   ],
   "source": [
    "fig, axList = plt.subplots(nrows=3, ncols=2)\n",
    "axList = axList.flatten()\n",
    "fig.set_size_inches(10,10)\n",
    "\n",
    "\n",
    "for ax in enumerate(axList):\n",
    "    loc = ax[0]\n",
    "    ax = ax[1]\n",
    "    \n",
    "    data = coefficients.xs(loc, level=1, axis=1)\n",
    "    data.plot(marker='o', ls='', ms=2.0, ax=ax, legend=False)\n",
    "    \n",
    "    if ax is axList[0]:\n",
    "        ax.legend(loc=4)\n",
    "        \n",
    "    ax.set(title='Coefficient Set '+str(loc))\n",
    "\n",
    "plt.tight_layout()\n"
   ]
  },
  {
   "cell_type": "markdown",
   "metadata": {},
   "source": [
    "## Question 6\n",
    "\n",
    "* Predict and store the class for each model.\n",
    "* Also store the probability for the predicted class for each model. "
   ]
  },
  {
   "cell_type": "code",
   "execution_count": 19,
   "metadata": {},
   "outputs": [
    {
     "data": {
      "text/html": [
       "<div>\n",
       "<style>\n",
       "    .dataframe thead tr:only-child th {\n",
       "        text-align: right;\n",
       "    }\n",
       "\n",
       "    .dataframe thead th {\n",
       "        text-align: left;\n",
       "    }\n",
       "\n",
       "    .dataframe tbody tr th {\n",
       "        vertical-align: top;\n",
       "    }\n",
       "</style>\n",
       "<table border=\"1\" class=\"dataframe\">\n",
       "  <thead>\n",
       "    <tr style=\"text-align: right;\">\n",
       "      <th></th>\n",
       "      <th>lr</th>\n",
       "      <th>l1</th>\n",
       "      <th>l2</th>\n",
       "    </tr>\n",
       "  </thead>\n",
       "  <tbody>\n",
       "    <tr>\n",
       "      <th>0</th>\n",
       "      <td>3</td>\n",
       "      <td>3</td>\n",
       "      <td>3</td>\n",
       "    </tr>\n",
       "    <tr>\n",
       "      <th>1</th>\n",
       "      <td>5</td>\n",
       "      <td>5</td>\n",
       "      <td>5</td>\n",
       "    </tr>\n",
       "    <tr>\n",
       "      <th>2</th>\n",
       "      <td>3</td>\n",
       "      <td>3</td>\n",
       "      <td>3</td>\n",
       "    </tr>\n",
       "    <tr>\n",
       "      <th>3</th>\n",
       "      <td>1</td>\n",
       "      <td>1</td>\n",
       "      <td>1</td>\n",
       "    </tr>\n",
       "    <tr>\n",
       "      <th>4</th>\n",
       "      <td>0</td>\n",
       "      <td>0</td>\n",
       "      <td>0</td>\n",
       "    </tr>\n",
       "  </tbody>\n",
       "</table>\n",
       "</div>"
      ],
      "text/plain": [
       "   lr  l1  l2\n",
       "0   3   3   3\n",
       "1   5   5   5\n",
       "2   3   3   3\n",
       "3   1   1   1\n",
       "4   0   0   0"
      ]
     },
     "execution_count": 19,
     "metadata": {},
     "output_type": "execute_result"
    }
   ],
   "source": [
    "# Predict the class and the probability for each\n",
    "\n",
    "y_pred = list()\n",
    "y_prob = list()\n",
    "\n",
    "coeff_labels = ['lr', 'l1', 'l2']\n",
    "coeff_models = [lr, lr_l1, lr_l2]\n",
    "\n",
    "for lab,mod in zip(coeff_labels, coeff_models):\n",
    "    y_pred.append(pd.Series(mod.predict(X_test), name=lab))\n",
    "    y_prob.append(pd.Series(mod.predict_proba(X_test).max(axis=1), name=lab))\n",
    "    \n",
    "y_pred = pd.concat(y_pred, axis=1)\n",
    "y_prob = pd.concat(y_prob, axis=1)\n",
    "\n",
    "y_pred.head()\n"
   ]
  },
  {
   "cell_type": "code",
   "execution_count": 20,
   "metadata": {},
   "outputs": [
    {
     "data": {
      "text/html": [
       "<div>\n",
       "<style>\n",
       "    .dataframe thead tr:only-child th {\n",
       "        text-align: right;\n",
       "    }\n",
       "\n",
       "    .dataframe thead th {\n",
       "        text-align: left;\n",
       "    }\n",
       "\n",
       "    .dataframe tbody tr th {\n",
       "        vertical-align: top;\n",
       "    }\n",
       "</style>\n",
       "<table border=\"1\" class=\"dataframe\">\n",
       "  <thead>\n",
       "    <tr style=\"text-align: right;\">\n",
       "      <th></th>\n",
       "      <th>lr</th>\n",
       "      <th>l1</th>\n",
       "      <th>l2</th>\n",
       "    </tr>\n",
       "  </thead>\n",
       "  <tbody>\n",
       "    <tr>\n",
       "      <th>0</th>\n",
       "      <td>0.998939</td>\n",
       "      <td>0.998896</td>\n",
       "      <td>0.999809</td>\n",
       "    </tr>\n",
       "    <tr>\n",
       "      <th>1</th>\n",
       "      <td>0.988165</td>\n",
       "      <td>0.999787</td>\n",
       "      <td>0.999519</td>\n",
       "    </tr>\n",
       "    <tr>\n",
       "      <th>2</th>\n",
       "      <td>0.987592</td>\n",
       "      <td>0.995892</td>\n",
       "      <td>0.998306</td>\n",
       "    </tr>\n",
       "    <tr>\n",
       "      <th>3</th>\n",
       "      <td>0.981381</td>\n",
       "      <td>0.999152</td>\n",
       "      <td>0.994523</td>\n",
       "    </tr>\n",
       "    <tr>\n",
       "      <th>4</th>\n",
       "      <td>0.998277</td>\n",
       "      <td>0.999922</td>\n",
       "      <td>0.999624</td>\n",
       "    </tr>\n",
       "  </tbody>\n",
       "</table>\n",
       "</div>"
      ],
      "text/plain": [
       "         lr        l1        l2\n",
       "0  0.998939  0.998896  0.999809\n",
       "1  0.988165  0.999787  0.999519\n",
       "2  0.987592  0.995892  0.998306\n",
       "3  0.981381  0.999152  0.994523\n",
       "4  0.998277  0.999922  0.999624"
      ]
     },
     "execution_count": 20,
     "metadata": {},
     "output_type": "execute_result"
    }
   ],
   "source": [
    "y_prob.head()"
   ]
  },
  {
   "cell_type": "markdown",
   "metadata": {},
   "source": [
    "## Question 7\n",
    "\n",
    "For each model, calculate the following error metrics: \n",
    "\n",
    "* accuracy\n",
    "* precision\n",
    "* recall\n",
    "* fscore\n",
    "* confusion matrix\n",
    "\n",
    "Decide how to combine the multi-class metrics into a single value for each model."
   ]
  },
  {
   "cell_type": "code",
   "execution_count": 21,
   "metadata": {
    "collapsed": true
   },
   "outputs": [],
   "source": [
    "from sklearn.metrics import precision_recall_fscore_support as score\n",
    "from sklearn.metrics import confusion_matrix, accuracy_score, roc_auc_score\n",
    "from sklearn.preprocessing import label_binarize\n",
    "\n",
    "metrics = list()\n",
    "cm = dict()\n",
    "\n",
    "for lab in coeff_labels:\n",
    "\n",
    "    # Preciision, recall, f-score from the multi-class support function\n",
    "    precision, recall, fscore, _ = score(y_test, y_pred[lab], average='weighted')\n",
    "    \n",
    "    # The usual way to calculate accuracy\n",
    "    accuracy = accuracy_score(y_test, y_pred[lab])\n",
    "    \n",
    "    # ROC-AUC scores can be calculated by binarizing the data\n",
    "    auc = roc_auc_score(label_binarize(y_test, classes=[0,1,2,3,4,5]),\n",
    "              label_binarize(y_pred[lab], classes=[0,1,2,3,4,5]), \n",
    "              average='weighted')\n",
    "    \n",
    "    # Last, the confusion matrix\n",
    "    cm[lab] = confusion_matrix(y_test, y_pred[lab])\n",
    "    \n",
    "    metrics.append(pd.Series({'precision':precision, 'recall':recall, \n",
    "                              'fscore':fscore, 'accuracy':accuracy,\n",
    "                              'auc':auc}, \n",
    "                             name=lab))\n",
    "\n",
    "metrics = pd.concat(metrics, axis=1)\n"
   ]
  },
  {
   "cell_type": "code",
   "execution_count": 22,
   "metadata": {},
   "outputs": [
    {
     "data": {
      "text/html": [
       "<div>\n",
       "<style>\n",
       "    .dataframe thead tr:only-child th {\n",
       "        text-align: right;\n",
       "    }\n",
       "\n",
       "    .dataframe thead th {\n",
       "        text-align: left;\n",
       "    }\n",
       "\n",
       "    .dataframe tbody tr th {\n",
       "        vertical-align: top;\n",
       "    }\n",
       "</style>\n",
       "<table border=\"1\" class=\"dataframe\">\n",
       "  <thead>\n",
       "    <tr style=\"text-align: right;\">\n",
       "      <th></th>\n",
       "      <th>lr</th>\n",
       "      <th>l1</th>\n",
       "      <th>l2</th>\n",
       "    </tr>\n",
       "  </thead>\n",
       "  <tbody>\n",
       "    <tr>\n",
       "      <th>accuracy</th>\n",
       "      <td>0.984142</td>\n",
       "      <td>0.983495</td>\n",
       "      <td>0.984142</td>\n",
       "    </tr>\n",
       "    <tr>\n",
       "      <th>auc</th>\n",
       "      <td>0.990384</td>\n",
       "      <td>0.989949</td>\n",
       "      <td>0.990356</td>\n",
       "    </tr>\n",
       "    <tr>\n",
       "      <th>fscore</th>\n",
       "      <td>0.984143</td>\n",
       "      <td>0.983492</td>\n",
       "      <td>0.984141</td>\n",
       "    </tr>\n",
       "    <tr>\n",
       "      <th>precision</th>\n",
       "      <td>0.984144</td>\n",
       "      <td>0.983514</td>\n",
       "      <td>0.984146</td>\n",
       "    </tr>\n",
       "    <tr>\n",
       "      <th>recall</th>\n",
       "      <td>0.984142</td>\n",
       "      <td>0.983495</td>\n",
       "      <td>0.984142</td>\n",
       "    </tr>\n",
       "  </tbody>\n",
       "</table>\n",
       "</div>"
      ],
      "text/plain": [
       "                 lr        l1        l2\n",
       "accuracy   0.984142  0.983495  0.984142\n",
       "auc        0.990384  0.989949  0.990356\n",
       "fscore     0.984143  0.983492  0.984141\n",
       "precision  0.984144  0.983514  0.984146\n",
       "recall     0.984142  0.983495  0.984142"
      ]
     },
     "execution_count": 22,
     "metadata": {},
     "output_type": "execute_result"
    }
   ],
   "source": [
    "#Run the metrics\n",
    "metrics"
   ]
  },
  {
   "cell_type": "markdown",
   "metadata": {},
   "source": [
    "## Question 8\n",
    "\n",
    "Display or plot the confusion matrix for each model."
   ]
  },
  {
   "cell_type": "code",
   "execution_count": 23,
   "metadata": {},
   "outputs": [
    {
     "data": {
      "image/png": "[encoded data removed]",
      "text/plain": [
       "<matplotlib.figure.Figure at 0x7f39e41b2470>"
      ]
     },
     "metadata": {},
     "output_type": "display_data"
    }
   ],
   "source": [
    "\n",
    "fig, axList = plt.subplots(nrows=2, ncols=2)\n",
    "axList = axList.flatten()\n",
    "fig.set_size_inches(12, 10)\n",
    "\n",
    "axList[-1].axis('off')\n",
    "\n",
    "for ax,lab in zip(axList[:-1], coeff_labels):\n",
    "    sns.heatmap(cm[lab], ax=ax, annot=True, fmt='d');\n",
    "    ax.set(title=lab);\n",
    "    \n",
    "plt.tight_layout()\n"
   ]
  },
  {
   "cell_type": "markdown",
   "metadata": {
    "collapsed": true
   },
   "source": [
    "## Question 9\n",
    " Identify highly correlated columns and drop those columns before building models"
   ]
  },
  {
   "cell_type": "code",
   "execution_count": 55,
   "metadata": {},
   "outputs": [
    {
     "name": "stdout",
     "output_type": "stream",
     "text": [
      "(10299, 562) Index(['tBodyAcc-mean()-X', 'tBodyAcc-mean()-Y', 'tBodyAcc-mean()-Z',\n",
      "       'tBodyAcc-std()-X', 'tBodyAcc-std()-Y', 'tBodyAcc-std()-Z',\n",
      "       'tBodyAcc-mad()-X', 'tBodyAcc-mad()-Y', 'tBodyAcc-mad()-Z',\n",
      "       'tBodyAcc-max()-X',\n",
      "       ...\n",
      "       'fBodyBodyGyroJerkMag-meanFreq()', 'fBodyBodyGyroJerkMag-skewness()',\n",
      "       'fBodyBodyGyroJerkMag-kurtosis()', 'angle(tBodyAccMean,gravity)',\n",
      "       'angle(tBodyAccJerkMean),gravityMean)',\n",
      "       'angle(tBodyGyroMean,gravityMean)',\n",
      "       'angle(tBodyGyroJerkMean,gravityMean)', 'angle(X,gravityMean)',\n",
      "       'angle(Y,gravityMean)', 'angle(Z,gravityMean)'],\n",
      "      dtype='object', length=561)\n",
      "(10299, 561)\n",
      "(10299, 561)\n",
      "(10299, 50) ['tBodyAcc-std()-Y', 'tBodyAcc-mad()-Y', 'tBodyAcc-max()-X', 'tBodyAcc-sma()', 'tBodyAcc-entropy()-X', 'tGravityAcc-mean()-X', 'tGravityAcc-max()-X', 'tGravityAcc-min()-X', 'tGravityAcc-energy()-X', 'tGravityAcc-correlation()-X,Y', 'tGravityAcc-correlation()-X,Z', 'tGravityAcc-correlation()-Y,Z', 'tBodyAccJerk-entropy()-X', 'tBodyAccJerk-entropy()-Y', 'tBodyAccJerk-entropy()-Z', 'tBodyGyroJerk-entropy()-X', 'tBodyGyroJerk-entropy()-Y', 'tBodyGyroJerk-entropy()-Z', 'tBodyAccMag-mean()', 'tBodyAccMag-max()', 'tBodyAccMag-sma()', 'tBodyAccMag-entropy()', 'tGravityAccMag-mean()', 'tGravityAccMag-max()', 'tGravityAccMag-sma()', 'tGravityAccMag-entropy()', 'tBodyAccJerkMag-entropy()', 'tBodyGyroMag-entropy()', 'tBodyGyroJerkMag-entropy()', 'fBodyAcc-mean()-Y', 'fBodyAcc-std()-Y', 'fBodyAcc-mad()-Y', 'fBodyAcc-sma()', 'fBodyAcc-entropy()-X', 'fBodyAcc-entropy()-Y', 'fBodyAcc-entropy()-Z', 'fBodyAccJerk-mad()-X', 'fBodyAccJerk-entropy()-X', 'fBodyAccJerk-entropy()-Y', 'fBodyAccJerk-entropy()-Z', 'fBodyGyro-entropy()-X', 'fBodyGyro-entropy()-Y', 'fBodyGyro-entropy()-Z', 'fBodyAccMag-entropy()', 'fBodyBodyAccJerkMag-entropy()', 'fBodyBodyGyroMag-entropy()', 'fBodyBodyGyroJerkMag-entropy()', 'angle(tBodyGyroMean,gravityMean)', 'angle(tBodyGyroJerkMean,gravityMean)', 'angle(X,gravityMean)']              0         1         2         3         4         5         6   \\\n",
      "0     -0.983111 -0.983185 -0.934724 -0.965523 -0.407747  0.963396  0.892055   \n",
      "1     -0.975300 -0.974914 -0.943068 -0.981930 -0.714892  0.966561  0.892060   \n",
      "2     -0.967187 -0.963668 -0.938692 -0.983478 -0.592235  0.966878  0.892401   \n",
      "3     -0.983403 -0.982750 -0.938692 -0.986093 -0.627446  0.967615  0.893817   \n",
      "4     -0.980817 -0.979672 -0.942469 -0.992653 -0.786553  0.968224  0.893817   \n",
      "5     -0.990487 -0.990218 -0.942469 -0.993928 -0.751869  0.967948  0.893683   \n",
      "6     -0.967186 -0.966097 -0.940987 -0.986837 -0.637185  0.967929  0.893370   \n",
      "7     -0.966728 -0.966313 -0.940987 -0.976851 -0.633239  0.968491  0.894205   \n",
      "8     -0.961245 -0.957236 -0.940598 -0.983295 -0.683117  0.968481  0.894205   \n",
      "9     -0.972758 -0.973663 -0.940028 -0.986541 -0.550721  0.968418  0.894778   \n",
      "10    -0.973077 -0.973948 -0.940028 -0.987883 -0.628997  0.969203  0.894941   \n",
      "11    -0.987214 -0.985997 -0.943906 -0.994624 -0.838022  0.969253  0.894941   \n",
      "12    -0.984680 -0.982937 -0.943906 -0.995116 -0.849672  0.968996  0.894368   \n",
      "13    -0.990526 -0.990687 -0.943323 -0.996564 -0.888215  0.969044  0.894368   \n",
      "14    -0.816699 -0.794280 -0.925977 -0.903806 -0.163203  0.944895  0.877588   \n",
      "15    -0.974848 -0.973332 -0.941716 -0.984402 -0.627971  0.952013  0.878160   \n",
      "16    -0.981866 -0.981620 -0.941716 -0.989296 -0.645633  0.952724  0.878160   \n",
      "17    -0.987516 -0.987954 -0.942076 -0.994907 -0.642112  0.953064  0.878880   \n",
      "18    -0.993222 -0.992711 -0.944870 -0.998143 -0.701819  0.953606  0.879087   \n",
      "19    -0.990522 -0.989470 -0.945662 -0.997418 -0.805920  0.953595  0.879087   \n",
      "20    -0.994311 -0.993604 -0.941472 -0.998101 -0.742251  0.953136  0.878771   \n",
      "21    -0.989957 -0.989669 -0.941472 -0.997651 -0.742251  0.953183  0.878617   \n",
      "22    -0.990091 -0.989473 -0.944567 -0.995625 -0.796051  0.953093  0.878617   \n",
      "23    -0.987308 -0.986771 -0.943675 -0.995126 -0.728912  0.952732  0.878586   \n",
      "24    -0.988489 -0.988544 -0.942559 -0.994402 -0.640678  0.953219  0.879146   \n",
      "25    -0.986070 -0.985192 -0.942559 -0.995655 -0.667771  0.954194  0.879981   \n",
      "26    -0.993669 -0.993620 -0.942890 -0.998242 -0.826873  0.954589  0.879981   \n",
      "27    -0.181937 -0.110813 -0.931896 -0.536973 -0.484722  0.874099  0.860533   \n",
      "28    -0.891605 -0.891373 -0.931896 -0.932712 -0.238789  0.835664  0.790631   \n",
      "29    -0.940350 -0.936927 -0.935389 -0.976273 -0.496179  0.836960  0.766022   \n",
      "...         ...       ...       ...       ...       ...       ...       ...   \n",
      "10269 -0.152071 -0.180600 -0.072573 -0.233428  0.412311  0.913025  0.848424   \n",
      "10270 -0.164580 -0.238855 -0.149166 -0.248797  0.232357  0.935610  0.876210   \n",
      "10271 -0.188579 -0.226048  0.092017 -0.219858  0.203732  0.916555  0.873429   \n",
      "10272 -0.095884 -0.130102  0.092017 -0.238549  0.172463  0.899039  0.834151   \n",
      "10273 -0.015797 -0.036371 -0.017856 -0.225344 -0.021860  0.892815  0.825843   \n",
      "10274 -0.079126 -0.087048  0.056244 -0.189068 -0.071297  0.891127  0.824481   \n",
      "10275 -0.110110 -0.136375  0.056244 -0.204052  0.178862  0.892876  0.824481   \n",
      "10276 -0.055580 -0.057525  0.026249 -0.181943  0.283433  0.886535  0.823359   \n",
      "10277 -0.066677 -0.071025 -0.116867 -0.189334  0.242070  0.884991  0.819432   \n",
      "10278 -0.080392 -0.097063 -0.116867 -0.201846  0.210917  0.891366  0.823251   \n",
      "10279 -0.169378 -0.185957 -0.175652 -0.265145  0.163650  0.893152  0.826316   \n",
      "10280 -0.174368 -0.207809  0.485680 -0.110003  0.263681  0.941822  0.875449   \n",
      "10281 -0.151753 -0.206796  0.485680 -0.073432  0.228545  0.948803  0.882028   \n",
      "10282 -0.035160 -0.116987  0.160374 -0.032786  0.148147  0.952139  0.883845   \n",
      "10283  0.078012 -0.047632  0.160374 -0.112285 -0.079131  0.955097  0.889029   \n",
      "10284  0.041540 -0.093578  0.285773 -0.124035  0.003499  0.951293  0.889029   \n",
      "10285  0.020777 -0.120400  0.411506 -0.051133  0.229327  0.950401  0.892909   \n",
      "10286  0.156431  0.070107  0.411506 -0.044623  0.241342  0.955879  0.893704   \n",
      "10287  0.005472 -0.074187  0.402615 -0.062225  0.232528  0.948080  0.893704   \n",
      "10288 -0.245059 -0.303187  0.402615 -0.095753  0.229327  0.944097  0.879192   \n",
      "10289 -0.151250 -0.181989 -0.108216 -0.238367  0.234943  0.924763  0.863447   \n",
      "10290 -0.183307 -0.224409 -0.073510 -0.233221  0.358115  0.910153  0.861706   \n",
      "10291 -0.118042 -0.129623  0.053516 -0.234660  0.308007  0.901797  0.835016   \n",
      "10292  0.018057  0.019297  0.053516 -0.220977  0.092683  0.896850  0.835016   \n",
      "10293 -0.092504 -0.088741 -0.041624 -0.235157  0.028467  0.889161  0.821188   \n",
      "10294 -0.140589 -0.148775  0.185361 -0.197803  0.128951  0.890968  0.823272   \n",
      "10295  0.028148 -0.030036  0.185361 -0.186842  0.311991  0.891281  0.823272   \n",
      "10296 -0.042143 -0.133257  0.007471 -0.232233  0.342902  0.890897  0.822107   \n",
      "10297 -0.229775 -0.279610  0.007471 -0.251372  0.194918  0.892736  0.823679   \n",
      "10298 -0.195253 -0.218295 -0.111527 -0.236150  0.028807  0.894331  0.825359   \n",
      "\n",
      "             7         8         9     ...           40        41        42  \\\n",
      "0      0.977436  0.899469  0.570222    ...    -0.712402 -0.644842 -0.838993   \n",
      "1      0.984520  0.907829 -0.831284    ...    -0.611112 -0.764603 -0.751080   \n",
      "2      0.986770  0.908668 -0.181090    ...    -0.590987 -0.808287 -0.751080   \n",
      "3      0.986821  0.910621 -0.991309    ...    -0.723666 -0.803754 -0.817286   \n",
      "4      0.987434  0.912235 -0.408330    ...    -0.652617 -0.827212 -0.737458   \n",
      "5      0.987722  0.911503 -0.563951    ...    -0.678186 -0.808287 -0.751080   \n",
      "6      0.987722  0.911453  0.726427    ...    -0.661059 -0.715887 -0.708950   \n",
      "7      0.987926  0.912943 -0.933367    ...    -0.707054 -0.739692 -0.732707   \n",
      "8      0.987754  0.912915  0.343793    ...    -0.707054 -0.827212 -0.730537   \n",
      "9      0.987754  0.912748  0.644952    ...    -0.635200 -0.685081 -0.646519   \n",
      "10     0.987826  0.914829  0.723735    ...    -0.617550 -0.655244 -0.730537   \n",
      "11     0.988613  0.914963 -0.355212    ...    -0.821841 -0.894922 -0.888885   \n",
      "12     0.988613  0.914281 -0.528081    ...    -0.866126 -0.922772 -0.918335   \n",
      "13     0.988900  0.914407  0.395550    ...    -0.953913 -0.955302 -0.918335   \n",
      "14     0.946749  0.850958  0.982038    ...    -0.511249 -0.294822 -0.259772   \n",
      "15     0.968635  0.869510  0.582693    ...    -0.862166 -0.549925 -0.546652   \n",
      "16     0.972776  0.871372 -0.581004    ...    -0.797653 -0.708192 -0.691428   \n",
      "17     0.972970  0.872263  0.954088    ...    -0.820621 -0.751721 -0.717770   \n",
      "18     0.973258  0.873684  0.894283    ...    -0.797653 -0.922772 -0.918335   \n",
      "19     0.973364  0.873655  0.951364    ...    -0.891655 -0.955302 -0.952734   \n",
      "20     0.973188  0.872450 -0.358045    ...    -0.953913 -0.955302 -1.000000   \n",
      "21     0.973188  0.872576  0.792143    ...    -0.953913 -1.000000 -1.000000   \n",
      "22     0.972692  0.872339  0.977540    ...    -1.000000 -0.955302 -0.952734   \n",
      "23     0.972640  0.871391  0.366350    ...    -1.000000 -1.000000 -0.952734   \n",
      "24     0.972640  0.872669  0.691627    ...    -0.866126 -0.955302 -0.888885   \n",
      "25     0.973845  0.875227  0.891790    ...    -0.821841 -0.922772 -0.888885   \n",
      "26     0.974369  0.876264  0.622636    ...    -0.784253 -0.922772 -1.000000   \n",
      "27     0.849573  0.672448 -0.985175    ...    -0.511908 -0.447995 -0.209885   \n",
      "28     0.849573  0.577092 -0.958343    ...    -0.874570 -0.571072 -0.705050   \n",
      "29     0.850499  0.580155 -0.998856    ...    -0.920371 -0.660647 -0.666622   \n",
      "...         ...       ...       ...    ...          ...       ...       ...   \n",
      "10269  0.923037  0.768770  0.537122    ...     0.463831  0.613213  0.277558   \n",
      "10270  0.928910  0.826898 -0.146297    ...     0.464800  0.542880  0.348212   \n",
      "10271  0.911732  0.778034  0.745896    ...     0.460227  0.591598  0.320913   \n",
      "10272  0.908382  0.733281  0.714859    ...     0.414516  0.489889  0.414418   \n",
      "10273  0.904668  0.717607  0.643162    ...     0.409176  0.570643  0.389310   \n",
      "10274  0.904668  0.713368  0.248085    ...     0.532818  0.686658  0.485444   \n",
      "10275  0.905625  0.717756  0.227123    ...     0.434710  0.642664  0.363722   \n",
      "10276  0.893272  0.701898  0.791380    ...     0.396830  0.610768  0.419184   \n",
      "10277  0.893272  0.698025  0.877208    ...     0.426513  0.562398  0.409399   \n",
      "10278  0.906098  0.713960  0.802699    ...     0.367547  0.469266  0.400522   \n",
      "10279  0.905933  0.718451  0.370547    ...     0.266606  0.413614  0.366654   \n",
      "10280  0.952714  0.842920  0.103393    ...     0.535446  0.642219  0.470183   \n",
      "10281  0.958926  0.861120 -0.750106    ...     0.477847  0.697070  0.411882   \n",
      "10282  0.965703  0.869848 -0.480161    ...     0.641265  0.677762  0.426203   \n",
      "10283  0.966225  0.877621  0.181579    ...     0.610675  0.698183  0.431474   \n",
      "10284  0.956243  0.867684  0.698946    ...     0.598628  0.628598  0.377454   \n",
      "10285  0.956243  0.865348  0.863098    ...     0.722269  0.643056  0.500787   \n",
      "10286  0.963672  0.879702  0.818437    ...     0.609733  0.646101  0.474298   \n",
      "10287  0.957031  0.859302  0.825889    ...     0.652567  0.604132  0.441508   \n",
      "10288  0.957031  0.848845  0.418062    ...     0.560495  0.626198  0.490809   \n",
      "10289  0.923624  0.798879  0.097812    ...     0.535285  0.555647  0.390963   \n",
      "10290  0.915505  0.761579  0.613439    ...     0.573501  0.547167  0.350143   \n",
      "10291  0.912804  0.740242  0.223397    ...     0.534909  0.497223  0.365495   \n",
      "10292  0.906877  0.727799  0.827877    ...     0.427861  0.538321  0.299902   \n",
      "10293  0.903413  0.708430  0.667899    ...     0.438137  0.501024  0.357904   \n",
      "10294  0.903413  0.712964  0.797965    ...     0.407007  0.426038  0.293395   \n",
      "10295  0.903793  0.713748  0.702926    ...     0.464056  0.515191  0.264384   \n",
      "10296  0.903793  0.712784  0.599033    ...     0.509597  0.484942  0.401973   \n",
      "10297  0.909007  0.717394  0.239265    ...     0.220706  0.500701  0.405665   \n",
      "10298  0.909007  0.721405  0.128737    ...     0.337754  0.458194  0.313169   \n",
      "\n",
      "             43        44        45        46        47        48        49  \n",
      "0     -0.646376 -1.000000 -0.701291 -0.871306 -0.464761 -0.018446 -0.841247  \n",
      "1     -0.816674 -1.000000 -0.720683 -1.000000 -0.732626  0.703511 -0.844788  \n",
      "2     -0.907014 -1.000000 -0.736521 -1.000000  0.100699  0.808529 -0.848933  \n",
      "3     -0.907014 -1.000000 -0.720891 -0.955696  0.640011 -0.485366 -0.848649  \n",
      "4     -0.907014 -1.000000 -0.763372 -1.000000  0.693578 -0.615971 -0.847865  \n",
      "5     -1.000000 -1.000000 -0.768577 -1.000000  0.275041 -0.368224 -0.849632  \n",
      "6     -0.843671 -1.000000 -0.735639 -0.955696  0.014637 -0.189512 -0.852150  \n",
      "7     -0.853531 -1.000000 -0.735639 -0.955696 -0.561871  0.467383 -0.851017  \n",
      "8     -0.907014 -1.000000 -0.850310 -0.955696 -0.234313  0.117797 -0.847971  \n",
      "9     -0.907014 -1.000000 -0.671366 -0.955696 -0.482871 -0.070670 -0.848294  \n",
      "10    -0.907014 -1.000000 -0.640633 -0.923452 -0.475802  0.115931 -0.851562  \n",
      "11    -1.000000 -1.000000 -0.896695 -1.000000  0.578861 -0.651945 -0.852723  \n",
      "12    -1.000000 -1.000000 -0.956057 -1.000000  0.639084  0.765485 -0.850654  \n",
      "13    -1.000000 -1.000000 -1.000000 -1.000000 -0.132403  0.498814 -0.849773  \n",
      "14    -0.538299 -1.000000 -0.387359 -0.923452  0.031208 -0.268791 -0.730937  \n",
      "15    -0.873482 -1.000000 -0.505870 -1.000000 -0.013034 -0.056927 -0.761101  \n",
      "16    -0.946182 -1.000000 -0.729408 -1.000000 -0.340473 -0.229155 -0.759172  \n",
      "17    -0.946182 -1.000000 -0.828966 -1.000000 -0.822239  0.367557 -0.759363  \n",
      "18    -1.000000 -1.000000 -0.872354 -1.000000 -0.240572  0.788193 -0.761052  \n",
      "19    -1.000000 -1.000000 -0.956057 -1.000000  0.066135 -0.411729 -0.760620  \n",
      "20    -1.000000 -1.000000 -1.000000 -1.000000  0.257657 -0.381102 -0.760528  \n",
      "21    -1.000000 -1.000000 -1.000000 -1.000000  0.142331 -0.853711 -0.762023  \n",
      "22    -1.000000 -1.000000 -1.000000 -1.000000  0.132576 -0.022379 -0.761509  \n",
      "23    -1.000000 -1.000000 -0.956057 -1.000000  0.006986 -0.235200 -0.758960  \n",
      "24    -1.000000 -1.000000 -1.000000 -1.000000 -0.436685 -0.622922 -0.758977  \n",
      "25    -1.000000 -1.000000 -0.924075 -1.000000 -0.226316 -0.225358 -0.762197  \n",
      "26    -1.000000 -1.000000 -0.956057 -1.000000  0.681154  0.815226 -0.763702  \n",
      "27    -0.103363 -0.940965 -0.540489 -0.795886  0.021485  0.046689 -0.667085  \n",
      "28    -0.695654 -1.000000 -0.558796 -1.000000  0.033529 -0.127028 -0.564807  \n",
      "29    -0.816674 -1.000000 -0.593725 -1.000000  0.024192  0.006329 -0.579367  \n",
      "...         ...       ...       ...       ...       ...       ...       ...  \n",
      "10269  0.496642  0.319808  0.502818  0.403346  0.913474 -0.903792 -0.694649  \n",
      "10270  0.511586  0.210900  0.463612  0.262585 -0.946507  0.033174 -0.722767  \n",
      "10271  0.477318  0.319787  0.521657  0.427728 -0.945578  0.613976 -0.694613  \n",
      "10272  0.368001  0.269190  0.505049  0.333780 -0.918626  0.109159 -0.671194  \n",
      "10273  0.516729  0.319221  0.500544  0.410917 -0.943786  0.297510 -0.661045  \n",
      "10274  0.480347  0.232907  0.495833  0.401803 -0.962498  0.953145 -0.657085  \n",
      "10275  0.539054  0.375858  0.431894  0.403692  0.868469 -0.461542 -0.663506  \n",
      "10276  0.467189  0.289227  0.449039  0.401803 -0.706116  0.064574 -0.660163  \n",
      "10277  0.402073  0.109418  0.368606  0.180876  0.738571  0.870613 -0.652636  \n",
      "10278  0.508654  0.218366  0.322582  0.226941  0.960357  0.086598 -0.656760  \n",
      "10279  0.546292  0.225722  0.357803  0.281111  0.927325 -0.084328 -0.657011  \n",
      "10280  0.728196  0.392503  0.498732  0.415847  0.927331 -0.652179 -0.807271  \n",
      "10281  0.573001  0.225097  0.616996  0.418865  0.921466 -0.869951 -0.814760  \n",
      "10282  0.649209  0.355592  0.647284  0.480751  0.964828  0.606231 -0.809277  \n",
      "10283  0.568810  0.324989  0.525787  0.445747  0.973227  0.062755 -0.809257  \n",
      "10284  0.663506  0.367759  0.642366  0.375301 -0.155724 -0.762511 -0.800932  \n",
      "10285  0.565688  0.436564  0.625923  0.415968 -0.624180 -0.441569 -0.803888  \n",
      "10286  0.561365  0.356594  0.692075  0.423477  0.966914 -0.715323 -0.810091  \n",
      "10287  0.595620  0.248949  0.614250  0.475269 -0.977969 -0.124243 -0.797719  \n",
      "10288  0.597264  0.297923  0.687954  0.463361 -0.994293  0.475236 -0.803914  \n",
      "10289  0.586530  0.335784  0.583602  0.414322 -0.951163 -0.228412 -0.691122  \n",
      "10290  0.538196  0.413010  0.566064  0.447421 -0.948809  0.472612 -0.677946  \n",
      "10291  0.383345  0.119216  0.462509  0.387672 -0.922779  0.232523 -0.672635  \n",
      "10292  0.336635  0.117375  0.452400  0.327778 -0.922941  0.489178 -0.660366  \n",
      "10293  0.355489  0.120442  0.354675  0.220762 -0.936606  0.562375 -0.646754  \n",
      "10294  0.491645  0.214449  0.491522  0.365783  0.884904 -0.698885 -0.651732  \n",
      "10295  0.504386  0.267662  0.469640  0.402907 -0.657421  0.322549 -0.655181  \n",
      "10296  0.392089  0.239540  0.363492  0.364393  0.696663  0.363139 -0.655357  \n",
      "10297  0.453230  0.200361  0.326637  0.238363  0.929294 -0.008398 -0.659719  \n",
      "10298  0.450403  0.234105  0.492207  0.333726  0.876030 -0.024965 -0.660080  \n",
      "\n",
      "[10299 rows x 50 columns]\n"
     ]
    }
   ],
   "source": [
    "from sklearn.feature_selection import SelectKBest\n",
    "from sklearn.feature_selection import chi2\n",
    "from sklearn.feature_selection import VarianceThreshold\n",
    "\n",
    "#threshold with .7\n",
    "print(data.shape,feature_cols)\n",
    "data3 = data[feature_cols]\n",
    "print(data3.shape)\n",
    "sel = VarianceThreshold(threshold=(.7 * (1 - .7)))\n",
    "data2 = pd.concat([X_train,X_test])\n",
    "print(data2.shape)\n",
    "d = sel.fit_transform(data3)\n",
    "data_new = pd.DataFrame(d)\n",
    "labels = [feature_cols[x] for x in sel.get_support(indices=True) if x]\n",
    "print(data_new.shape, labels, data_new)\n",
    "\n",
    "ntrain_idx, ntest_idx = next(strat_shuf_split.split(data_new, data.Activity))\n",
    "# Create the dataframes\n",
    "X_ntrain = data.loc[ntrain_idx, labels]\n",
    "y_ntrain = data.loc[ntrain_idx, 'Activity']\n",
    "\n",
    "X_ntest  = data.loc[ntest_idx, labels]\n",
    "y_ntest  = data.loc[ntest_idx, 'Activity']\n",
    "\n",
    "data_y = pd.concat([y_train,y_test])\n",
    "\n",
    "from sklearn.model_selection import train_test_split\n",
    "\n",
    "X_new,X_test_new = train_test_split(data_new)\n",
    "Y_new,Y_test_new = train_test_split(data_y)"
   ]
  },
  {
   "cell_type": "markdown",
   "metadata": {},
   "source": [
    " Repeat Model building with new training data after removing higly correlated columns"
   ]
  },
  {
   "cell_type": "code",
   "execution_count": 56,
   "metadata": {},
   "outputs": [
    {
     "name": "stdout",
     "output_type": "stream",
     "text": [
      "[[-0.06190873 -0.05257948 -0.46726828  0.24378783 -0.39759182 -2.69409816\n",
      "  -2.22294202 -2.92551475 -2.84624892  0.50072612  0.22046785 -0.21221523\n",
      "   0.07914203 -0.15900567 -0.04061609  0.28886718 -0.136028   -0.08598922\n",
      "   0.17936484  0.32903221  0.17936484  0.40745282  0.17936484  0.32903221\n",
      "   0.17936484  0.40745282  0.03550828  0.1725557   0.12993409 -0.14603375\n",
      "  -0.03313986 -0.16153924 -0.00984125 -0.12102351 -0.06362696  0.19403417\n",
      "  -0.3873267  -0.25981738 -0.16571078 -0.07472453  0.63689162 -0.44801434\n",
      "   0.0180551  -0.00886457 -0.132893   -0.196704    0.23970738 -0.15346817\n",
      "   0.02751403  2.14666911]\n",
      " [ 0.43882847  0.87347922 -3.24500649 -0.66116227  0.00982934  2.74171066\n",
      "   2.99648564  2.12544928 -4.03563593 -1.00583606 -0.53611996 -0.35438025\n",
      "   0.37057891 -0.33331244  1.34635008 -6.02140605  2.56436151  1.04970951\n",
      "  -0.6496566   1.27584387 -0.6496566  -0.09205584 -0.6496566   1.27584387\n",
      "  -0.6496566  -0.09205584  1.65718153  0.93756603 -1.45674623  0.2844545\n",
      "   0.99272559 -0.34098704 -0.9391037   0.16413369 -0.10073326  1.77487018\n",
      "  -0.05046162 -3.06979793 -0.1664642   0.53591903 -6.65426594  2.53661423\n",
      "   2.42388134  0.71765312 -0.60555723 -0.53784199  0.85606447  0.13054786\n",
      "  -0.37413481 -2.30059983]\n",
      " [-0.86201402 -0.49059332 -1.69353418  0.19853661  0.84486262  1.03746318\n",
      "   1.42962722  0.24988347  5.56711847  0.98037527  0.43602747  0.41002051\n",
      "  -2.43751348 -0.01507126 -3.42946176  6.47047254 -1.92712469 -0.28830172\n",
      "   0.10211864  0.29146108  0.10211864  0.02460626  0.10211864  0.29146108\n",
      "   0.10211864  0.02460626 -1.7283433  -0.36600754  1.33221978 -0.66851462\n",
      "  -0.35054412 -0.93311958 -0.23688173 -0.25274606  0.58651354 -1.53705352\n",
      "   0.46411286  0.26164194 -1.81453493 -0.80601791  5.38333968 -2.12941846\n",
      "  -1.79210164 -0.95492084  1.65644557 -0.50803826  1.80185888 -0.14679265\n",
      "   0.4642578   4.74393744]\n",
      " [ 0.27122034  0.7871568  -2.6470718  -2.86773567  1.62456984 -1.86640388\n",
      "  -3.08135924 -0.67523384  4.07711468 -0.38992164 -0.12346418 -0.33319723\n",
      "   4.59236105  2.50858089  3.92855865  1.60295775 -0.49848181  0.23785072\n",
      "  -1.70509933 -2.74949663 -1.70509933 -3.69638051 -1.70509933 -2.74949663\n",
      "  -1.70509933 -3.69638051  3.09024597  0.31112719  0.95117634  2.25338977\n",
      "  -0.07314096  1.17490811 -1.50897311 -1.00290615  0.70564416 -0.10152967\n",
      "   4.11122196  0.03890194  2.8993273   4.33409168 -0.53184499  0.24662839\n",
      "  -2.18539424 -3.81725757  0.55454154  0.81941604  2.69881913 -0.05774358\n",
      "  -0.01032226 -2.3561236 ]\n",
      " [-1.49918362 -2.68429368  5.35021088  0.88477168 -3.55433106 -0.82879109\n",
      "  -0.85258275 -0.30483879  1.3724079   0.09513538 -0.36362088  0.38764664\n",
      "  -5.74352592 -2.41124549 -4.21550398  0.42906869  1.60068151 -1.91636542\n",
      "   0.78223813  1.37890228  0.78223813  1.26233704  0.78223813  1.37890228\n",
      "   0.78223813  1.26233704  2.02671416  1.70449243  0.50687942  0.42710365\n",
      "  -2.04206927  2.16656658  0.72762943  0.23949311  0.76944365  0.60812686\n",
      "  -2.02580833  0.2659809   2.0981795   2.87949606 -1.27117683 -1.83050165\n",
      "   1.29460867  3.4699693  -1.07984621  0.13819316  0.83664035  0.34938549\n",
      "  -0.15141754 -2.21722629]\n",
      " [ 0.5776169   1.08195709  1.01504791  1.95128651  1.91978088  3.69676137\n",
      "   1.63580024  4.04385791 -2.65887093  0.35048036  0.47040981 -0.26982574\n",
      "   4.77342074  1.49164577  2.0320025  -1.11304077 -0.54851939  2.9193989\n",
      "   0.32172453 -0.07559949  0.32172453  0.81927727  0.32172453 -0.07559949\n",
      "   0.32172453  0.81927727 -2.73181924 -2.01033865 -0.41087311 -4.32524401\n",
      "   3.82212575 -1.82489673  0.21503316  1.85444338 -0.36955938 -1.11284809\n",
      "  -7.03771274  4.33157455 -2.84487327 -4.45340163  1.963541    0.40846654\n",
      "   0.33712178  1.74333616  0.93967751 -1.44544572 -3.10358833 -0.11579894\n",
      "   0.05544215  6.3880307 ]] [ 0.15676734 -9.93726888 -8.77124048 -7.54297373 -3.28272412 -8.95852607]\n",
      "(6, 50)\n"
     ]
    },
    {
     "data": {
      "text/plain": [
       "0.91844660194174754"
      ]
     },
     "execution_count": 56,
     "metadata": {},
     "output_type": "execute_result"
    }
   ],
   "source": [
    "# Try standard, L1 and L2 Logistic regression\n",
    "# Standard logistic regression\n",
    "lr = LogisticRegression().fit(X_ntrain, y_ntrain)\n",
    "#print(lr.coef_,lr.intercept_ )\n",
    "#print(lr.coef_.shape)\n",
    "lr.score(X_ntest, y_ntest)"
   ]
  },
  {
   "cell_type": "code",
   "execution_count": null,
   "metadata": {
    "collapsed": true
   },
   "outputs": [],
   "source": [
    "#Try with different solvers like ‘newton-cg’, ‘lbfgs’, ‘sag’, ‘saga’ and give your observations"
   ]
  },
  {
   "cell_type": "markdown",
   "metadata": {},
   "source": [
    "## Question 10\n",
    "\n",
    "Compare the magnitudes of the coefficients for each of the models. If one-vs-rest fitting was used, each set of coefficients can be plotted separately. "
   ]
  },
  {
   "cell_type": "code",
   "execution_count": null,
   "metadata": {
    "collapsed": true
   },
   "outputs": [],
   "source": [
    "# Combine all the coefficients into a dataframe for comparison\n"
   ]
  },
  {
   "cell_type": "markdown",
   "metadata": {},
   "source": [
    "Prepare six separate plots for each of the multi-class coefficients."
   ]
  },
  {
   "cell_type": "code",
   "execution_count": null,
   "metadata": {
    "collapsed": true
   },
   "outputs": [],
   "source": [
    "# try the plots"
   ]
  },
  {
   "cell_type": "markdown",
   "metadata": {},
   "source": [
    "## Question 11\n",
    "\n",
    "* Predict and store the class for each model.\n",
    "* Also store the probability for the predicted class for each model. "
   ]
  },
  {
   "cell_type": "code",
   "execution_count": null,
   "metadata": {
    "collapsed": true
   },
   "outputs": [],
   "source": [
    "# Predict the class and the probability for each\n"
   ]
  },
  {
   "cell_type": "markdown",
   "metadata": {},
   "source": [
    "## Question 12\n",
    "\n",
    "For each model, calculate the following error metrics: \n",
    "\n",
    "* accuracy\n",
    "* precision\n",
    "* recall\n",
    "* fscore\n",
    "* confusion matrix\n",
    "\n",
    "Decide how to combine the multi-class metrics into a single value for each model."
   ]
  },
  {
   "cell_type": "code",
   "execution_count": null,
   "metadata": {
    "collapsed": true
   },
   "outputs": [],
   "source": [
    "# Calculate the error metrics as listed above"
   ]
  },
  {
   "cell_type": "code",
   "execution_count": null,
   "metadata": {
    "collapsed": true
   },
   "outputs": [],
   "source": [
    "#Run the metrics"
   ]
  },
  {
   "cell_type": "markdown",
   "metadata": {},
   "source": [
    "## Question 13\n",
    "\n",
    "Display or plot the confusion matrix for each model."
   ]
  },
  {
   "cell_type": "code",
   "execution_count": null,
   "metadata": {
    "collapsed": true
   },
   "outputs": [],
   "source": [
    "#plot the confusion matrix"
   ]
  },
  {
   "cell_type": "code",
   "execution_count": null,
   "metadata": {
    "collapsed": true
   },
   "outputs": [],
   "source": [
    "# Perform a comparison of the outputs between Question 7 and 12 and give your observation"
   ]
  },
  {
   "cell_type": "code",
   "execution_count": null,
   "metadata": {
    "collapsed": true
   },
   "outputs": [],
   "source": [
    "# Perform a comparison of the outputs between Question 8 and 13 and give your observation"
   ]
  },
  {
   "cell_type": "code",
   "execution_count": null,
   "metadata": {
    "collapsed": true
   },
   "outputs": [],
   "source": []
  }
 ],
 "metadata": {
  "kernelspec": {
   "display_name": "Python 3",
   "language": "python",
   "name": "python3"
  },
  "language_info": {
   "codemirror_mode": {
    "name": "ipython",
    "version": 3
   },
   "file_extension": ".py",
   "mimetype": "text/x-python",
   "name": "python",
   "nbconvert_exporter": "python",
   "pygments_lexer": "ipython3",
   "version": "3.6.3"
  }
 },
 "nbformat": 4,
 "nbformat_minor": 2
}
