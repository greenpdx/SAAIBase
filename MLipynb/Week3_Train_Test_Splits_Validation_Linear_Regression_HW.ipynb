{
 "cells": [
  {
   "cell_type": "markdown",
   "metadata": {
    "run_control": {
     "marked": true
    }
   },
   "source": [
    "# Train Test Splits, Cross Validation, and Linear Regression"
   ]
  },
  {
   "cell_type": "markdown",
   "metadata": {
    "run_control": {
     "marked": true
    }
   },
   "source": [
    "## Introduction\n",
    "\n",
    "We will be working with a data set based on [housing prices in Ames, Iowa](https://www.kaggle.com/c/house-prices-advanced-regression-techniques). It was compiled for educational use to be a modernized and expanded alternative to the well-known Boston Housing dataset. This version of the data set has had some missing values filled for convenience.\n",
    "\n",
    "There are an extensive number of features, so they've been described in the table below.\n",
    "\n",
    "### Predictor\n",
    "\n",
    "* SalePrice: The property's sale price in dollars. \n",
    "\n",
    "\n",
    "### Features\n",
    "\n",
    "<table>\n",
    "  <tbody>    \n",
    "    <tr valign=\"top\">\n",
    "      <td valign=\"top\">\n",
    "        <ul>\n",
    "          <li>MoSold: Month Sold</li>\n",
    "          <li>YrSold: Year Sold</li><br>\n",
    "          \n",
    "          <li>SaleType: Type of sale</li>\n",
    "          <li>SaleCondition: Condition of sale</li><br>\n",
    "\n",
    "          <li>MSSubClass: The building class</li>\n",
    "          <li>MSZoning: The general zoning classification</li><br>\n",
    "\n",
    "          <li>Neighborhood: Physical locations within Ames city limits</li>\n",
    "          <li>Street: Type of road access</li>\n",
    "          <li>Alley: Type of alley access</li><br>\n",
    "\n",
    "          <li>LotArea: Lot size in square feet</li>\n",
    "          <li>LotConfig: Lot configuration</li>\n",
    "          <li>LotFrontage: Linear feet of street connected to property</li>\n",
    "          <li>LotShape: General shape of property</li><br>\n",
    "\n",
    "          <li>LandSlope: Slope of property</li>\n",
    "          <li>LandContour: Flatness of the property</li><br>\n",
    "\n",
    "          <li>YearBuilt: Original construction date</li>\n",
    "          <li>YearRemodAdd: Remodel date</li>\n",
    "          <li>OverallQual: Overall material and finish quality</li>\n",
    "          <li>OverallCond: Overall condition rating</li><br>\n",
    "\n",
    "          <li>Utilities: Type of utilities available</li>\n",
    "          <li>Foundation: Type of foundation</li>\n",
    "          <li>Functional: Home functionality rating</li><br>\n",
    "\n",
    "          <li>BldgType: Type of dwelling</li>\n",
    "          <li>HouseStyle: Style of dwelling</li><br>\n",
    "          \n",
    "          <li>1stFlrSF: First Floor square feet</li>\n",
    "          <li>2ndFlrSF: Second floor square feet</li>\n",
    "          <li>LowQualFinSF: Low quality finished square feet (all floors)</li>\n",
    "          <li>GrLivArea: Above grade (ground) living area square feet</li>\n",
    "          <li>TotRmsAbvGrd: Total rooms above grade (does not include bathrooms)</li><br>\n",
    "\n",
    "          <li>Condition1: Proximity to main road or railroad</li>\n",
    "          <li>Condition2: Proximity to main road or railroad (if a second is present)</li><br>\n",
    "          \n",
    "          <li>RoofStyle: Type of roof</li>\n",
    "          <li>RoofMatl: Roof material</li><br>\n",
    "\n",
    "          <li>ExterQual: Exterior material quality</li>\n",
    "          <li>ExterCond: Present condition of the material on the exterior</li>\n",
    "          <li>Exterior1st: Exterior covering on house</li>\n",
    "          <li>Exterior2nd: Exterior covering on house (if more than one material)</li><br><br>\n",
    "          \n",
    "        </ul>\n",
    "      </td>\n",
    "      \n",
    "      <td valign=\"top\">\n",
    "        <ul>\n",
    "          <li>MasVnrType: Masonry veneer type</li>\n",
    "          <li>MasVnrArea: Masonry veneer area in square feet</li><br>\n",
    "          \n",
    "          <li>WoodDeckSF: Wood deck area in square feet</li>\n",
    "          <li>OpenPorchSF: Open porch area in square feet</li>\n",
    "          <li>EnclosedPorch: Enclosed porch area in square feet</li>\n",
    "          <li>3SsnPorch: Three season porch area in square feet</li>\n",
    "          <li>ScreenPorch: Screen porch area in square feet</li><br>\n",
    "\n",
    "          <li>PoolArea: Pool area in square feet</li>\n",
    "          <li>PoolQC: Pool quality</li>\n",
    "          <li>Fence: Fence quality</li>\n",
    "          <li>PavedDrive: Paved driveway</li><br>\n",
    "\n",
    "          <li>GarageType: Garage location</li>\n",
    "          <li>GarageYrBlt: Year garage was built</li>\n",
    "          <li>GarageFinish: Interior finish of the garage</li>\n",
    "          <li>GarageCars: Size of garage in car capacity</li>\n",
    "          <li>GarageArea: Size of garage in square feet</li>\n",
    "          <li>GarageQual: Garage quality</li>\n",
    "          <li>GarageCond: Garage condition</li><br>\n",
    "\n",
    "          <li>Heating: Type of heating</li>\n",
    "          <li>HeatingQC: Heating quality and condition</li>\n",
    "          <li>CentralAir: Central air conditioning</li>\n",
    "          <li>Electrical: Electrical system</li><br>\n",
    "          \n",
    "          <li>FullBath: Full bathrooms above grade</li>\n",
    "          <li>HalfBath: Half baths above grade</li><br>\n",
    "          \n",
    "          <li>BedroomAbvGr: Number of bedrooms above basement level</li><br>\n",
    "          \n",
    "          <li>KitchenAbvGr: Number of kitchens</li>\n",
    "          <li>KitchenQual: Kitchen quality</li><br>\n",
    "          \n",
    "          <li>Fireplaces: Number of fireplaces</li>\n",
    "          <li>FireplaceQu: Fireplace quality</li><br>\n",
    "          \n",
    "          <li>MiscFeature: Miscellaneous feature not covered in other categories</li>\n",
    "          <li>MiscVal: Value of miscellaneous feature</li><br>\n",
    "          \n",
    "          <li>BsmtQual: Height of the basement</li>\n",
    "          <li>BsmtCond: General condition of the basement</li>\n",
    "          <li>BsmtExposure: Walkout or garden level basement walls</li>\n",
    "          <li>BsmtFinType1: Quality of basement finished area</li>\n",
    "          <li>BsmtFinSF1: Type 1 finished square feet</li>\n",
    "          <li>BsmtFinType2: Quality of second finished area (if present)</li>\n",
    "          <li>BsmtFinSF2: Type 2 finished square feet</li>\n",
    "          <li>BsmtUnfSF: Unfinished square feet of basement area</li>\n",
    "          <li>BsmtFullBath: Basement full bathrooms</li>\n",
    "          <li>BsmtHalfBath: Basement half bathrooms</li>\n",
    "          <li>TotalBsmtSF: Total square feet of basement area</li>\n",
    "        </ul>\n",
    "      </td>\n",
    "    </tr>\n",
    "    \n",
    "  </tbody>\n",
    "</table>\n"
   ]
  },
  {
   "cell_type": "code",
   "execution_count": 1,
   "metadata": {
    "ExecuteTime": {
     "end_time": "2017-03-09T17:24:40.724060Z",
     "start_time": "2017-03-09T12:24:40.718739-05:00"
    },
    "collapsed": true,
    "run_control": {
     "marked": true
    }
   },
   "outputs": [],
   "source": [
    "from __future__ import print_function\n",
    "import os\n",
    "data_path = ['data']"
   ]
  },
  {
   "cell_type": "markdown",
   "metadata": {
    "run_control": {
     "marked": true
    }
   },
   "source": [
    "## Question 1\n",
    "\n",
    "* Import the data using Pandas and examine the shape. There are 79 feature columns plus the predictor, the sale price (`SalePrice`). \n",
    "* There are three different types: integers (`int64`), floats (`float64`), and strings (`object`, categoricals). Examine how many there are of each data type. "
   ]
  },
  {
   "cell_type": "code",
   "execution_count": 12,
   "metadata": {
    "run_control": {
     "marked": true
    }
   },
   "outputs": [
    {
     "name": "stdout",
     "output_type": "stream",
     "text": [
      "(1379, 80)\n"
     ]
    }
   ],
   "source": [
    "import pandas as pd\n",
    "import numpy as np\n",
    "\n",
    "# Import the data using the file path\n",
    "filepath = os.sep.join(data_path + ['Ames_Housing_Sales.csv'])\n",
    "data = pd.read_csv(filepath, sep=',')\n",
    "\n",
    "print(data.shape)"
   ]
  },
  {
   "cell_type": "code",
   "execution_count": 13,
   "metadata": {
    "run_control": {
     "marked": true
    }
   },
   "outputs": [
    {
     "data": {
      "text/plain": [
       "object     43\n",
       "float64    21\n",
       "int64      16\n",
       "dtype: int64"
      ]
     },
     "execution_count": 13,
     "metadata": {},
     "output_type": "execute_result"
    }
   ],
   "source": [
    "data.dtypes.value_counts()"
   ]
  },
  {
   "cell_type": "markdown",
   "metadata": {
    "run_control": {
     "marked": true
    }
   },
   "source": [
    "## Question 2\n",
    "\n",
    "As discussed in the lecture, a significant challenge, particularly when dealing with data that have many columns, is ensuring each column gets encoded correctly. \n",
    "\n",
    "This is particularly true with data columns that are ordered categoricals (ordinals) vs unordered categoricals. Unordered categoricals should be one-hot encoded, however this can significantly increase the number of features and creates features that are highly correlated with each other.\n",
    "\n",
    "Determine how many total features would be present, relative to what currently exists, if all string (object) features are one-hot encoded. Recall that the total number of one-hot encoded columns is `n-1`, where `n` is the number of categories."
   ]
  },
  {
   "cell_type": "code",
   "execution_count": 14,
   "metadata": {
    "collapsed": true,
    "run_control": {
     "marked": true
    }
   },
   "outputs": [],
   "source": [
    "# Select the object (string) columns\n",
    "mask = data.dtypes == np.object\n",
    "categorical_cols = data.columns[mask]"
   ]
  },
  {
   "cell_type": "code",
   "execution_count": 15,
   "metadata": {
    "run_control": {
     "marked": true
    }
   },
   "outputs": [
    {
     "data": {
      "text/plain": [
       "215"
      ]
     },
     "execution_count": 15,
     "metadata": {},
     "output_type": "execute_result"
    }
   ],
   "source": [
    "# Determine how many extra columns would be created\n",
    "num_ohc_cols = (data[categorical_cols]\n",
    "                .apply(lambda x: x.nunique())\n",
    "                .sort_values(ascending=False))\n",
    "\n",
    "\n",
    "# No need to encode if there is only one value\n",
    "small_num_ohc_cols = num_ohc_cols.loc[num_ohc_cols>1]\n",
    "\n",
    "# Number of one-hot columns is one less than the number of categories\n",
    "small_num_ohc_cols -= 1\n",
    "\n",
    "# This is 215 columns, assuming the original ones are dropped. \n",
    "# This is quite a few extra columns!\n",
    "small_num_ohc_cols.sum()"
   ]
  },
  {
   "cell_type": "markdown",
   "metadata": {
    "run_control": {
     "marked": true
    }
   },
   "source": [
    "## Question 3\n",
    "\n",
    "Let's create a new data set where all of the above categorical features will be one-hot encoded. We can fit this data and see how it affects the results.\n",
    "\n",
    "* Used the dataframe `.copy()` method to create a completely separate copy of the dataframe for one-hot encoding\n",
    "* On this new dataframe, one-hot encode each of the appropriate columns and add it back to the dataframe. Be sure to drop the original column.\n",
    "* For the data that are not one-hot encoded, drop the columns that are string categoricals.\n",
    "\n",
    "For the first step, numerically encoding the string categoricals, either Scikit-learn;s `LabelEncoder` or `DictVectorizer` can be used. However, the former is probably easier since it doesn't require specifying a numerical value for each category, and we are going to one-hot encode all of the numerical values anyway. (Can you think of a time when `DictVectorizer` might be preferred?)"
   ]
  },
  {
   "cell_type": "code",
   "execution_count": 19,
   "metadata": {
    "run_control": {
     "marked": true
    }
   },
   "outputs": [
    {
     "name": "stdout",
     "output_type": "stream",
     "text": [
      "(1379, 295)\n",
      "(1379, 80)\n"
     ]
    }
   ],
   "source": [
    "from sklearn.preprocessing import OneHotEncoder, LabelEncoder\n",
    "\n",
    "# Copy of the data\n",
    "data_ohc = data.copy()\n",
    "\n",
    "# The encoders\n",
    "le = LabelEncoder()\n",
    "ohc = OneHotEncoder()\n",
    "\n",
    "for col in num_ohc_cols.index:\n",
    "    \n",
    "    # Integer encode the string categories\n",
    "    dat = le.fit_transform(data_ohc[col]).astype(np.int)\n",
    "    \n",
    "    # Remove the original column from the dataframe\n",
    "    data_ohc = data_ohc.drop(col, axis=1)\n",
    "\n",
    "    # One hot encode the data--this returns a sparse array\n",
    "    new_dat = ohc.fit_transform(dat.reshape(-1,1))\n",
    "\n",
    "    # Create unique column names\n",
    "    n_cols = new_dat.shape[1]\n",
    "    col_names = ['_'.join([col, str(x)]) for x in range(n_cols)]\n",
    "\n",
    "    # Create the new dataframe\n",
    "    new_df = pd.DataFrame(new_dat.toarray(), \n",
    "                          index=data_ohc.index, \n",
    "                          columns=col_names)\n",
    "\n",
    "    # Append the new data to the dataframe\n",
    "    data_ohc = pd.concat([data_ohc, new_df], axis=1)\n",
    "    \n",
    "print(data_ohc.shape)\n",
    "print(data.shape)\n"
   ]
  },
  {
   "cell_type": "code",
   "execution_count": 22,
   "metadata": {
    "run_control": {
     "marked": true
    }
   },
   "outputs": [
    {
     "data": {
      "text/plain": [
       "215"
      ]
     },
     "execution_count": 22,
     "metadata": {},
     "output_type": "execute_result"
    }
   ],
   "source": [
    "# Column difference is as calculated above\n",
    "data_ohc.shape[1] - data.shape[1]"
   ]
  },
  {
   "cell_type": "code",
   "execution_count": 23,
   "metadata": {
    "run_control": {
     "marked": true
    }
   },
   "outputs": [
    {
     "name": "stdout",
     "output_type": "stream",
     "text": [
      "80\n",
      "37\n"
     ]
    }
   ],
   "source": [
    "print(data.shape[1])\n",
    "\n",
    "# Remove the string columns from the dataframe\n",
    "data = data.drop(num_ohc_cols.index, axis=1)\n",
    "\n",
    "print(data.shape[1])"
   ]
  },
  {
   "cell_type": "markdown",
   "metadata": {
    "run_control": {
     "marked": true
    }
   },
   "source": [
    "## Question 4\n",
    "\n",
    "* Create train and test splits of both data sets. To ensure the data gets split the same way, use the same `random_state` in each of the two splits.\n",
    "* For each data set, fit a basic linear regression model on the training data. \n",
    "* Calculate the mean squared error on both the train and test sets for the respective models. Which model produces smaller error on the test data and why?"
   ]
  },
  {
   "cell_type": "code",
   "execution_count": 24,
   "metadata": {
    "collapsed": true,
    "run_control": {
     "marked": true
    }
   },
   "outputs": [],
   "source": [
    "from sklearn.model_selection import train_test_split\n",
    "\n",
    "y_col = 'SalePrice'\n",
    "\n",
    "# Split the data that is not one-hot encoded\n",
    "feature_cols = [x for x in data.columns if x != y_col]\n",
    "X_data = data[feature_cols]\n",
    "y_data = data[y_col]\n",
    "\n",
    "X_train, X_test, y_train, y_test = train_test_split(X_data, y_data, \n",
    "                                                    test_size=0.3, random_state=42)\n",
    "# Split the data that is one-hot encoded\n",
    "feature_cols = [x for x in data_ohc.columns if x != y_col]\n",
    "X_data_ohc = data_ohc[feature_cols]\n",
    "y_data_ohc = data_ohc[y_col]\n",
    "\n",
    "X_train_ohc, X_test_ohc, y_train_ohc, y_test_ohc = train_test_split(X_data_ohc, y_data_ohc, \n",
    "                                                    test_size=0.3, random_state=42)"
   ]
  },
  {
   "cell_type": "code",
   "execution_count": 25,
   "metadata": {
    "run_control": {
     "marked": true
    }
   },
   "outputs": [
    {
     "data": {
      "text/plain": [
       "True"
      ]
     },
     "execution_count": 25,
     "metadata": {},
     "output_type": "execute_result"
    }
   ],
   "source": [
    "# Compare the indices to ensure they are identical\n",
    "(X_train_ohc.index == X_train.index).all()"
   ]
  },
  {
   "cell_type": "code",
   "execution_count": 31,
   "metadata": {},
   "outputs": [
    {
     "name": "stdout",
     "output_type": "stream",
     "text": [
      "461      86000.0\n",
      "976      84000.0\n",
      "1128    176000.0\n",
      "904     124000.0\n",
      "506     272000.0\n",
      "894     124900.0\n",
      "720     196500.0\n",
      "333     140000.0\n",
      "1336    207000.0\n",
      "1063    115000.0\n",
      "614     145500.0\n",
      "1039     60000.0\n",
      "1142    290000.0\n",
      "486     402861.0\n",
      "1278    170000.0\n",
      "669     129000.0\n",
      "1139    107000.0\n",
      "398     113000.0\n",
      "852     153000.0\n",
      "585     168500.0\n",
      "328     437154.0\n",
      "100     100000.0\n",
      "318     155000.0\n",
      "1289    193000.0\n",
      "83      174000.0\n",
      "129     230000.0\n",
      "808     174000.0\n",
      "12      144000.0\n",
      "560     319000.0\n",
      "171     475000.0\n",
      "          ...   \n",
      "474     289000.0\n",
      "856     128000.0\n",
      "747     194500.0\n",
      "252     266000.0\n",
      "21      139400.0\n",
      "1337    175900.0\n",
      "459     175000.0\n",
      "1184    165400.0\n",
      "276     152000.0\n",
      "955      85000.0\n",
      "1215    190000.0\n",
      "385     339750.0\n",
      "805     170000.0\n",
      "343     190000.0\n",
      "769     137000.0\n",
      "1332    230000.0\n",
      "130     231500.0\n",
      "871     201000.0\n",
      "1123    168000.0\n",
      "87      163500.0\n",
      "330     190000.0\n",
      "1238    335000.0\n",
      "466      91300.0\n",
      "121     226000.0\n",
      "1044    325000.0\n",
      "1095    146000.0\n",
      "1130    144000.0\n",
      "1294    165500.0\n",
      "860     174000.0\n",
      "1126    165000.0\n",
      "Name: SalePrice, Length: 965, dtype: float64       1stFlrSF  2ndFlrSF  3SsnPorch  BedroomAbvGr  BsmtFinSF1  BsmtFinSF2  \\\n",
      "461      630.0       0.0        0.0             1       515.0         0.0   \n",
      "976      845.0       0.0        0.0             3         0.0         0.0   \n",
      "1128     728.0     728.0        0.0             3         0.0         0.0   \n",
      "904      561.0     668.0        0.0             2       285.0         0.0   \n",
      "506     1601.0       0.0        0.0             3      1358.0         0.0   \n",
      "894     1188.0     561.0        0.0             2      1088.0         0.0   \n",
      "720      980.0     734.0        0.0             3       394.0         0.0   \n",
      "333     1192.0     403.0        0.0             2       388.0         0.0   \n",
      "1336    1053.0     795.0        0.0             4         0.0         0.0   \n",
      "1063    1005.0       0.0        0.0             2         0.0         0.0   \n",
      "614     1053.0       0.0        0.0             3       806.0         0.0   \n",
      "1039     438.0       0.0        0.0             1       290.0         0.0   \n",
      "1142    1660.0       0.0        0.0             3      1220.0         0.0   \n",
      "486     2020.0       0.0        0.0             3      1436.0         0.0   \n",
      "1278    1222.0     698.0        0.0             4         0.0         0.0   \n",
      "669      960.0       0.0        0.0             3       789.0         0.0   \n",
      "1139    1056.0       0.0        0.0             2      1056.0         0.0   \n",
      "398      988.0       0.0        0.0             2         0.0         0.0   \n",
      "852     1306.0       0.0        0.0             2       860.0         0.0   \n",
      "585      756.0     756.0        0.0             2       420.0         0.0   \n",
      "328     1848.0     880.0        0.0             4      1410.0         0.0   \n",
      "100     1047.0       0.0        0.0             2         0.0         0.0   \n",
      "318     1215.0       0.0        0.0             3       585.0         0.0   \n",
      "1289     882.0     908.0        0.0             3       633.0         0.0   \n",
      "83       684.0     876.0        0.0             3         0.0         0.0   \n",
      "129     1004.0     848.0        0.0             3       668.0         0.0   \n",
      "808      702.0     779.0        0.0             3         0.0         0.0   \n",
      "12       912.0       0.0        0.0             2       737.0         0.0   \n",
      "560     1826.0       0.0        0.0             3      1422.0         0.0   \n",
      "171     1518.0    1518.0        0.0             4         0.0         0.0   \n",
      "...        ...       ...        ...           ...         ...         ...   \n",
      "474     1801.0       0.0        0.0             1      1247.0         0.0   \n",
      "856     1063.0       0.0        0.0             3       354.0       290.0   \n",
      "747     1086.0     809.0        0.0             3         0.0         0.0   \n",
      "252     1095.0     844.0        0.0             3         0.0         0.0   \n",
      "21      1108.0       0.0        0.0             3         0.0         0.0   \n",
      "1337    1569.0       0.0        0.0             1       988.0         0.0   \n",
      "459     1484.0       0.0        0.0             3       998.0         0.0   \n",
      "1184     760.0     896.0        0.0             3         0.0         0.0   \n",
      "276      910.0     648.0        0.0             4       420.0         0.0   \n",
      "955     1022.0       0.0        0.0             2       247.0       465.0   \n",
      "1215    1582.0       0.0        0.0             4       812.0         0.0   \n",
      "385     1050.0    1028.0        0.0             3       789.0         0.0   \n",
      "805     1779.0       0.0        0.0             3       306.0      1085.0   \n",
      "343      790.0     784.0        0.0             3       712.0         0.0   \n",
      "769     1008.0       0.0        0.0             2       486.0         0.0   \n",
      "1332     944.0     896.0        0.0             3       666.0         0.0   \n",
      "130      928.0     836.0        0.0             3       821.0         0.0   \n",
      "871      936.0     785.0        0.0             3       814.0         0.0   \n",
      "1123    1622.0       0.0        0.0             3      1159.0         0.0   \n",
      "87       964.0       0.0        0.0             2       713.0         0.0   \n",
      "330     1453.0       0.0        0.0             2      1082.0         0.0   \n",
      "1238    1902.0       0.0        0.0             3      1406.0         0.0   \n",
      "466      886.0       0.0        0.0             2         0.0         0.0   \n",
      "121     1216.0     941.0        0.0             4       445.0         0.0   \n",
      "1044    1500.0    1122.0        0.0             3      1032.0         0.0   \n",
      "1095     855.0     601.0        0.0             3       311.0         0.0   \n",
      "1130     815.0     875.0        0.0             3         0.0         0.0   \n",
      "1294    1661.0       0.0        0.0             3       831.0         0.0   \n",
      "860      742.0     742.0        0.0             3         0.0         0.0   \n",
      "1126    1224.0       0.0        0.0             2       883.0         0.0   \n",
      "\n",
      "      BsmtFullBath  BsmtHalfBath  BsmtUnfSF  EnclosedPorch   ...    \\\n",
      "461              1             0      115.0            0.0   ...     \n",
      "976              0             0        0.0            0.0   ...     \n",
      "1128             0             0      728.0            0.0   ...     \n",
      "904              0             0      276.0            0.0   ...     \n",
      "506              1             0      223.0            0.0   ...     \n",
      "894              0             0        0.0          244.0   ...     \n",
      "720              0             0      586.0          156.0   ...     \n",
      "333              0             0      552.0          108.0   ...     \n",
      "1336             0             0      833.0            0.0   ...     \n",
      "1063             0             0     1005.0            0.0   ...     \n",
      "614              1             0      247.0            0.0   ...     \n",
      "1039             0             0        0.0            0.0   ...     \n",
      "1142             1             0      440.0            0.0   ...     \n",
      "486              1             0      570.0            0.0   ...     \n",
      "1278             0             0      570.0            0.0   ...     \n",
      "669              1             0      171.0            0.0   ...     \n",
      "1139             1             0        0.0            0.0   ...     \n",
      "398              0             0      988.0            0.0   ...     \n",
      "852              1             0      132.0            0.0   ...     \n",
      "585              0             0      336.0            0.0   ...     \n",
      "328              1             0      438.0            0.0   ...     \n",
      "100              0             0      641.0            0.0   ...     \n",
      "318              0             0      630.0            0.0   ...     \n",
      "1289             1             0      240.0            0.0   ...     \n",
      "83               0             0      684.0            0.0   ...     \n",
      "129              0             0      336.0            0.0   ...     \n",
      "808              0             0      702.0            0.0   ...     \n",
      "12               1             0      175.0            0.0   ...     \n",
      "560              1             0      392.0            0.0   ...     \n",
      "171              0             0     1107.0            0.0   ...     \n",
      "...            ...           ...        ...            ...   ...     \n",
      "474              1             0      254.0            0.0   ...     \n",
      "856              1             0      412.0          164.0   ...     \n",
      "747              0             0      712.0            0.0   ...     \n",
      "252              0             0     1095.0            0.0   ...     \n",
      "21               0             0      637.0          205.0   ...     \n",
      "1337             0             1      398.0            0.0   ...     \n",
      "459              0             0      486.0            0.0   ...     \n",
      "1184             0             0      746.0            0.0   ...     \n",
      "276              0             0      490.0            0.0   ...     \n",
      "955              1             0      310.0          226.0   ...     \n",
      "1215             0             1      812.0            0.0   ...     \n",
      "385              1             0      245.0            0.0   ...     \n",
      "805              1             0      372.0            0.0   ...     \n",
      "343              1             0       84.0            0.0   ...     \n",
      "769              0             0      522.0          120.0   ...     \n",
      "1332             1             0      278.0            0.0   ...     \n",
      "130              1             0      107.0            0.0   ...     \n",
      "871              0             1      114.0            0.0   ...     \n",
      "1123             1             0       90.0            0.0   ...     \n",
      "87               1             0      163.0           44.0   ...     \n",
      "330              1             0      371.0            0.0   ...     \n",
      "1238             1             0      496.0          162.0   ...     \n",
      "466              0             0      190.0           80.0   ...     \n",
      "121              0             0      479.0            0.0   ...     \n",
      "1044             1             0      431.0            0.0   ...     \n",
      "1095             0             0      544.0            0.0   ...     \n",
      "1130             0             0      815.0          330.0   ...     \n",
      "1294             1             0      161.0            0.0   ...     \n",
      "860              0             0      742.0            0.0   ...     \n",
      "1126             1             0      341.0            0.0   ...     \n",
      "\n",
      "      OverallCond  OverallQual  PoolArea  ScreenPorch  TotRmsAbvGrd  \\\n",
      "461             8            4       0.0          0.0             3   \n",
      "976             3            4       0.0          0.0             5   \n",
      "1128            5            6       0.0          0.0             8   \n",
      "904             6            6       0.0          0.0             5   \n",
      "506             5            8       0.0          0.0             6   \n",
      "894             6            5       0.0          0.0             7   \n",
      "720             5            7       0.0          0.0             7   \n",
      "333             5            6       0.0          0.0             6   \n",
      "1336            7            6       0.0        220.0             8   \n",
      "1063            5            4       0.0          0.0             5   \n",
      "614             7            5       0.0          0.0             5   \n",
      "1039            5            2       0.0          0.0             3   \n",
      "1142            5            8       0.0          0.0             8   \n",
      "486             5           10       0.0          0.0             9   \n",
      "1278            6            7       0.0          0.0             8   \n",
      "669             5            4       0.0          0.0             6   \n",
      "1139            4            4       0.0          0.0             5   \n",
      "398             5            5       0.0          0.0             4   \n",
      "852             7            5       0.0          0.0             5   \n",
      "585             5            6       0.0          0.0             4   \n",
      "328             5            9       0.0          0.0            10   \n",
      "100             7            4       0.0          0.0             6   \n",
      "318             7            6       0.0        234.0             6   \n",
      "1289            5            7       0.0          0.0             7   \n",
      "83              5            6       0.0          0.0             6   \n",
      "129             5            8       0.0          0.0             7   \n",
      "808             5            6       0.0          0.0             6   \n",
      "12              6            5       0.0        176.0             4   \n",
      "560             5            8       0.0        120.0             7   \n",
      "171             9           10       0.0        410.0            12   \n",
      "...           ...          ...       ...          ...           ...   \n",
      "474             8            7       0.0        161.0             6   \n",
      "856             5            5       0.0          0.0             6   \n",
      "747             5            7       0.0          0.0             7   \n",
      "252             5            8       0.0          0.0             8   \n",
      "21              7            7       0.0          0.0             6   \n",
      "1337            5            7       0.0          0.0             7   \n",
      "459             6            5       0.0        180.0             7   \n",
      "1184            5            7       0.0          0.0             7   \n",
      "276             5            5       0.0          0.0             6   \n",
      "955             4            5       0.0          0.0             4   \n",
      "1215            5            5       0.0          0.0             7   \n",
      "385             5            8       0.0          0.0             8   \n",
      "805             4            5       0.0        312.0             6   \n",
      "343             5            6       0.0          0.0             6   \n",
      "769             6            5       0.0          0.0             4   \n",
      "1332            5            7       0.0          0.0             6   \n",
      "130             5            6       0.0          0.0             7   \n",
      "871             5            6       0.0          0.0             7   \n",
      "1123            4            4       0.0          0.0             7   \n",
      "87              7            5       0.0          0.0             5   \n",
      "330             5            7       0.0        184.0             6   \n",
      "1238            8            7       0.0          0.0             7   \n",
      "466             8            5       0.0          0.0             4   \n",
      "121             6            7       0.0          0.0             8   \n",
      "1044            5            8       0.0          0.0             9   \n",
      "1095            5            6       0.0          0.0             7   \n",
      "1130            6            7       0.0          0.0             7   \n",
      "1294            6            6       0.0        178.0             8   \n",
      "860             5            6       0.0          0.0             8   \n",
      "1126            5            6       0.0          0.0             5   \n",
      "\n",
      "      TotalBsmtSF  WoodDeckSF  YearBuilt  YearRemodAdd  YrSold  \n",
      "461         630.0         0.0       1970          2002    2009  \n",
      "976           0.0       186.0       1957          1957    2009  \n",
      "1128        728.0       100.0       2005          2005    2008  \n",
      "904         561.0       150.0       1980          1980    2009  \n",
      "506        1581.0       180.0       2001          2002    2010  \n",
      "894        1088.0        48.0       1890          1996    2009  \n",
      "720         980.0       228.0       1988          1988    2010  \n",
      "333         940.0         0.0       1940          2000    2006  \n",
      "1336        833.0         0.0       1923          2000    2008  \n",
      "1063       1005.0         0.0       1955          1955    2009  \n",
      "614        1053.0         0.0       1959          2006    2008  \n",
      "1039        290.0         0.0       1920          1950    2009  \n",
      "1142       1660.0       322.0       2006          2006    2006  \n",
      "486        2006.0       156.0       2009          2009    2009  \n",
      "1278        570.0         0.0       1968          1992    2006  \n",
      "669         960.0         0.0       1970          1970    2006  \n",
      "1139       1056.0         0.0       1966          1966    2006  \n",
      "398         988.0         0.0       1954          1954    2008  \n",
      "852         992.0         0.0       1957          2000    2009  \n",
      "585         756.0         0.0       2000          2000    2007  \n",
      "328        1848.0         0.0       2005          2006    2006  \n",
      "100         641.0         0.0       1885          1995    2007  \n",
      "318        1215.0         0.0       1958          1998    2009  \n",
      "1289        873.0         0.0       1999          1999    2008  \n",
      "83          684.0       100.0       2005          2005    2009  \n",
      "129        1004.0       224.0       1999          2000    2008  \n",
      "808         702.0         0.0       1994          1995    2009  \n",
      "12          912.0       140.0       1962          1962    2008  \n",
      "560        1814.0       180.0       2005          2006    2006  \n",
      "171        1107.0         0.0       1892          1993    2006  \n",
      "...           ...         ...        ...           ...     ...  \n",
      "474        1501.0         0.0       1959          1997    2010  \n",
      "856        1056.0         0.0       1954          1954    2010  \n",
      "747         712.0       143.0       1994          1996    2008  \n",
      "252        1095.0       192.0       2006          2006    2006  \n",
      "21          637.0         0.0       1930          1950    2007  \n",
      "1337       1386.0       143.0       2007          2007    2009  \n",
      "459        1484.0       224.0       1971          1971    2007  \n",
      "1184        746.0       178.0       2003          2004    2008  \n",
      "276         910.0       289.0       1950          1950    2007  \n",
      "955        1022.0         0.0       1910          2006    2009  \n",
      "1215       1624.0       168.0       1964          1964    2006  \n",
      "385        1034.0         0.0       2007          2008    2008  \n",
      "805        1763.0         0.0       1955          1974    2006  \n",
      "343         796.0       306.0       1976          1976    2006  \n",
      "769        1008.0         0.0       1954          1954    2006  \n",
      "1332        944.0         0.0       2001          2001    2009  \n",
      "130         928.0       276.0       1997          1997    2009  \n",
      "871         928.0       300.0       1994          1994    2007  \n",
      "1123       1249.0       439.0       1961          1975    2007  \n",
      "87          876.0         0.0       1921          2006    2009  \n",
      "330        1453.0         0.0       1986          1986    2006  \n",
      "1238       1902.0         0.0       1959          2002    2010  \n",
      "466         190.0       144.0       1938          1996    2009  \n",
      "121         924.0       105.0       1966          1966    2006  \n",
      "1044       1463.0       186.0       1994          1995    2010  \n",
      "1095        855.0        26.0       1978          1978    2010  \n",
      "1130        815.0         0.0       1916          1950    2006  \n",
      "1294        992.0         0.0       1955          1996    2008  \n",
      "860         742.0        36.0       2005          2005    2009  \n",
      "1126       1224.0         0.0       1999          1999    2009  \n",
      "\n",
      "[965 rows x 36 columns]\n"
     ]
    }
   ],
   "source": [
    "print(y_train,X_train)"
   ]
  },
  {
   "cell_type": "code",
   "execution_count": 44,
   "metadata": {
    "run_control": {
     "marked": true
    }
   },
   "outputs": [
    {
     "data": {
      "text/html": [
       "<div>\n",
       "<style>\n",
       "    .dataframe thead tr:only-child th {\n",
       "        text-align: right;\n",
       "    }\n",
       "\n",
       "    .dataframe thead th {\n",
       "        text-align: left;\n",
       "    }\n",
       "\n",
       "    .dataframe tbody tr th {\n",
       "        vertical-align: top;\n",
       "    }\n",
       "</style>\n",
       "<table border=\"1\" class=\"dataframe\">\n",
       "  <thead>\n",
       "    <tr style=\"text-align: right;\">\n",
       "      <th></th>\n",
       "      <th>no enc</th>\n",
       "      <th>one-hot enc</th>\n",
       "    </tr>\n",
       "  </thead>\n",
       "  <tbody>\n",
       "    <tr>\n",
       "      <th>test</th>\n",
       "      <td>1.372182e+09</td>\n",
       "      <td>1.155610e+18</td>\n",
       "    </tr>\n",
       "    <tr>\n",
       "      <th>train</th>\n",
       "      <td>1.131507e+09</td>\n",
       "      <td>3.177290e+08</td>\n",
       "    </tr>\n",
       "  </tbody>\n",
       "</table>\n",
       "</div>"
      ],
      "text/plain": [
       "             no enc   one-hot enc\n",
       "test   1.372182e+09  1.155610e+18\n",
       "train  1.131507e+09  3.177290e+08"
      ]
     },
     "execution_count": 44,
     "metadata": {},
     "output_type": "execute_result"
    }
   ],
   "source": [
    "from sklearn.linear_model import LinearRegression\n",
    "from sklearn.metrics import mean_squared_error\n",
    "\n",
    "LR = LinearRegression()\n",
    "\n",
    "# Storage for error values\n",
    "error_df = list()\n",
    "\n",
    "# Data that have not been one-hot encoded\n",
    "LRn = LR.fit(X_train, y_train)\n",
    "y_train_pred = LRn.predict(X_train)\n",
    "y_test_pred = LRn.predict(X_test)\n",
    "\n",
    "error_df.append(pd.Series({'train': mean_squared_error(y_train, y_train_pred),\n",
    "                           'test' : mean_squared_error(y_test,  y_test_pred)},\n",
    "                           name='no enc'))\n",
    "\n",
    "# Data that have been one-hot encoded\n",
    "LRo = LR.fit(X_train_ohc, y_train_ohc)\n",
    "y_train_ohc_pred = LRo.predict(X_train_ohc)\n",
    "y_test_ohc_pred = LRo.predict(X_test_ohc)\n",
    "\n",
    "error_df.append(pd.Series({'train': mean_squared_error(y_train_ohc, y_train_ohc_pred),\n",
    "                           'test' : mean_squared_error(y_test_ohc,  y_test_ohc_pred)},\n",
    "                          name='one-hot enc'))\n",
    "\n",
    "# Assemble the results\n",
    "error_df = pd.concat(error_df, axis=1)\n",
    "error_df"
   ]
  },
  {
   "cell_type": "markdown",
   "metadata": {
    "run_control": {
     "marked": true
    }
   },
   "source": [
    "Note that the error values on the one-hot encoded data are very different for the train and test data. In particular, the errors on the test data are much higher. Based on the lecture, this is because the one-hot encoded model is overfitting the data. We will learn how to deal with issues like this in the next lesson."
   ]
  },
  {
   "cell_type": "markdown",
   "metadata": {
    "run_control": {
     "marked": true
    }
   },
   "source": [
    "## Question 5\n",
    "\n",
    "For each of the data sets (one-hot encoded and not encoded):\n",
    "\n",
    "* Scale the all the non-hot encoded values using one of the following: `StandardScaler`, `MinMaxScaler`, `MaxAbsScaler`.\n",
    "* Compare the error calculated on the test sets\n",
    "\n",
    "Be sure to calculate the skew (to decide if a transformation should be done) and fit the scaler on *ONLY* the training data, but then apply it to both the train and test data identically."
   ]
  },
  {
   "cell_type": "code",
   "execution_count": 28,
   "metadata": {
    "collapsed": true
   },
   "outputs": [],
   "source": [
    "# Mute the setting wtih a copy warnings\n",
    "pd.options.mode.chained_assignment = None"
   ]
  },
  {
   "cell_type": "code",
   "execution_count": 29,
   "metadata": {},
   "outputs": [
    {
     "name": "stdout",
     "output_type": "stream",
     "text": [
      "not_encoded - maxabsscaling          1.372324e+09\n",
      "not_encoded - minmaxscaling          1.372106e+09\n",
      "not_encoded - standardscaling        1.372182e+09\n",
      "one_hot_encoded - maxabsscaling      8.065328e+09\n",
      "one_hot_encoded - minmaxscaling      8.065328e+09\n",
      "one_hot_encoded - standardscaling    3.825075e+27\n",
      "--------------------------------------------------------------------------------\n",
      "not_encoded - maxabsscaling 1372324284.39\n",
      "not_encoded - minmaxscaling 1372106183.66\n",
      "not_encoded - standardscaling 1372182358.93\n",
      "one_hot_encoded - maxabsscaling 8065327607.23\n",
      "one_hot_encoded - minmaxscaling 8065327607.35\n",
      "one_hot_encoded - standardscaling 3.8250752897e+27\n"
     ]
    }
   ],
   "source": [
    "from sklearn.preprocessing import StandardScaler, MinMaxScaler, MaxAbsScaler\n",
    "\n",
    "\n",
    "scalers = {'standard': StandardScaler(),\n",
    "           'minmax': MinMaxScaler(),\n",
    "           'maxabs': MaxAbsScaler()}\n",
    "\n",
    "training_test_sets = {\n",
    "    'not_encoded': (X_train, y_train, X_test, y_test),\n",
    "    'one_hot_encoded': (X_train_ohc, y_train_ohc, X_test_ohc, y_test_ohc)}\n",
    "\n",
    "\n",
    "# Get the list of float columns, and the float data\n",
    "# so that we don't scale something we already scaled. \n",
    "# We're supposed to scale the original data each time\n",
    "mask = X_train.dtypes == np.float\n",
    "float_columns = X_train.columns[mask]\n",
    "\n",
    "# initialize model\n",
    "LR = LinearRegression()\n",
    "\n",
    "# iterate over all possible combinations and get the errors\n",
    "errors = {}\n",
    "for encoding_label, (_X_train, _y_train, _X_test, _y_test) in training_test_sets.items():\n",
    "    for scaler_label, scaler in scalers.items():\n",
    "        trainingset = _X_train.copy()  # copy because we dont want to scale this more than once.\n",
    "        testset = _X_test.copy()\n",
    "        trainingset[float_columns] = scaler.fit_transform(trainingset[float_columns])\n",
    "        testset[float_columns] = scaler.transform(testset[float_columns])\n",
    "        LR.fit(trainingset, _y_train)\n",
    "        predictions = LR.predict(testset)\n",
    "        key = encoding_label + ' - ' + scaler_label + 'scaling'\n",
    "        errors[key] = mean_squared_error(_y_test, predictions)\n",
    "\n",
    "errors = pd.Series(errors)\n",
    "print(errors.to_string())\n",
    "print('-' * 80)\n",
    "for key, error_val in errors.items():\n",
    "    print(key, error_val)"
   ]
  },
  {
   "cell_type": "markdown",
   "metadata": {
    "run_control": {
     "marked": true
    }
   },
   "source": [
    "## Question 6\n",
    "\n",
    "Plot predictions vs actual for one of the models."
   ]
  },
  {
   "cell_type": "code",
   "execution_count": 32,
   "metadata": {
    "run_control": {
     "marked": true
    }
   },
   "outputs": [
    {
     "data": {
      "image/png": "[encoded data removed]",
      "text/plain": [
       "<matplotlib.figure.Figure at 0x7f2336182278>"
      ]
     },
     "metadata": {},
     "output_type": "display_data"
    }
   ],
   "source": [
    "import matplotlib.pyplot as plt\n",
    "import seaborn as sns\n",
    "%matplotlib inline\n",
    "\n",
    "\n",
    "sns.set_context('talk')\n",
    "sns.set_style('ticks')\n",
    "sns.set_palette('dark')\n",
    "\n",
    "ax = plt.axes()\n",
    "# we are going to use y_test, y_test_pred\n",
    "ax.scatter(y_test, y_test_pred, alpha=.5)\n",
    "\n",
    "ax.set(xlabel='Ground truth', \n",
    "       ylabel='Predictions',\n",
    "       title='Ames, Iowa House Price Predictions vs Truth, using Linear Regression');"
   ]
  },
  {
   "cell_type": "code",
   "execution_count": 34,
   "metadata": {},
   "outputs": [
    {
     "data": {
      "image/png": "[encoded data removed]",
      "text/plain": [
       "<matplotlib.figure.Figure at 0x7f232843da58>"
      ]
     },
     "metadata": {},
     "output_type": "display_data"
    }
   ],
   "source": [
    "ax = plt.axes()\n",
    "# we are going to use y_test, y_test_pred\n",
    "ax.scatter(y_test_ohc, y_test_ohc_pred, alpha=.5)\n",
    "\n",
    "ax.set(xlabel='Ground truth', \n",
    "       ylabel='Predictions',\n",
    "       title='Ames, Iowa House Price Predictions vs Truth, using Linear Regression');"
   ]
  },
  {
   "cell_type": "code",
   "execution_count": 45,
   "metadata": {},
   "outputs": [
    {
     "data": {
      "text/plain": [
       "(599     274000.0\n",
       " 881     117500.0\n",
       " 634      87000.0\n",
       " 425     204000.0\n",
       " 906     185000.0\n",
       " 1079     80000.0\n",
       " 65      226000.0\n",
       " 1351    182900.0\n",
       " 479     161000.0\n",
       " 67      225000.0\n",
       " 939     121600.0\n",
       " 573     359100.0\n",
       " 917      99500.0\n",
       " 1054    318000.0\n",
       " 941     185000.0\n",
       " 1116    120000.0\n",
       " 237     230000.0\n",
       " 578     137500.0\n",
       " 772     224000.0\n",
       " 303     242000.0\n",
       " 953     135000.0\n",
       " 783     151000.0\n",
       " 339     156000.0\n",
       " 718     270000.0\n",
       " 208     386250.0\n",
       " 624     129000.0\n",
       " 1075    144000.0\n",
       " 1040    119500.0\n",
       " 575     313000.0\n",
       " 244     151000.0\n",
       "           ...   \n",
       " 1145    113000.0\n",
       " 294     188500.0\n",
       " 430     256000.0\n",
       " 413     110000.0\n",
       " 478     208300.0\n",
       " 1023    160000.0\n",
       " 1005    328000.0\n",
       " 88      133900.0\n",
       " 787     128000.0\n",
       " 1048    280000.0\n",
       " 622     423000.0\n",
       " 1276    410000.0\n",
       " 798     133500.0\n",
       " 594      82500.0\n",
       " 1133    116050.0\n",
       " 746     225000.0\n",
       " 290     132000.0\n",
       " 285     305900.0\n",
       " 712     179400.0\n",
       " 1306    112000.0\n",
       " 899     129000.0\n",
       " 765      55993.0\n",
       " 266     179200.0\n",
       " 327     154000.0\n",
       " 348     162000.0\n",
       " 942      91000.0\n",
       " 59      101000.0\n",
       " 405     175000.0\n",
       " 458     156000.0\n",
       " 1300    117000.0\n",
       " Name: SalePrice, Length: 414, dtype: float64,\n",
       " array([ 255357.11669785,  111299.07888226,  101871.22265026,\n",
       "         204289.15000555,  208586.37554991,   38498.32113479,\n",
       "         234605.07946505,  206163.34143815,  189445.51374825,\n",
       "         234912.29769193,  100070.41132595,  303211.1863041 ,\n",
       "         103419.61701482,  290178.89390011,  205166.75839722,\n",
       "         146257.50183528,  247462.7981406 ,  152709.62159031,\n",
       "         209595.6621503 ,  275411.21399678,   95633.56432953,\n",
       "         154783.29741375,  164281.42186714,  242693.76064435,\n",
       "         371291.01293593,  220711.25707812,  122898.05630708,\n",
       "         101121.85981179,  319768.99200617,  171923.04606209,\n",
       "         254397.75130245,  198277.78503756,  156945.91428132,\n",
       "         145528.55761265,  206607.10583423,  377247.99520131,\n",
       "         124653.58190711,  142577.1954058 ,  272354.34585711,\n",
       "         210801.03966255,  172408.5543328 ,  124484.48710219,\n",
       "         197787.94462259,  372937.09486317,  146022.49437893,\n",
       "         286232.78762473,  108281.01525425,  223018.63628671,\n",
       "          84262.99671736,  295519.2988514 ,  125192.84874   ,\n",
       "          52966.90359634,  138534.63787057,  168386.92848798,\n",
       "         213079.16532911,  113144.60489437,  103678.70819845,\n",
       "         199196.36900645,  138507.50068273,  311643.97192512,\n",
       "          55512.79324948,  186861.09766637,  157105.69749763,\n",
       "         298342.08106276,   78994.97529083,  324798.51803165,\n",
       "         170089.57710713,  114182.74553873,  199501.37900409,\n",
       "         206899.98644119,  130422.85372264,  272030.84493383,\n",
       "         119492.47057639,  129916.36667545,   80015.22948634,\n",
       "         134991.63639559,   38031.04707993,  162248.09907127,\n",
       "         275110.43144955,  115493.88522545,  320620.96906843,\n",
       "         217703.12470681,  291471.63691014,  210661.65880465,\n",
       "          97108.76695065,  261515.51852431,  143381.81957549,\n",
       "         115848.10283988,  143715.12426859,  276375.84971701,\n",
       "         263975.73180258,  298580.25126575,  182287.2298347 ,\n",
       "         170137.78340384,  150231.01751699,  214657.5636656 ,\n",
       "         248628.20405963,  220757.74317723,  274125.1030708 ,\n",
       "         243935.08736377,  110004.20176249,   99769.68602306,\n",
       "         194301.51907033,  206720.81795719,  154346.03875894,\n",
       "         217270.78827089,  210213.75293651,  125611.26042215,\n",
       "         173275.72188441,  219732.62706506,  156439.82941119,\n",
       "         110379.31081337,  318617.17746737,  297063.92894296,\n",
       "         337325.06795839,   87147.75134879,  146192.30046439,\n",
       "         229088.44769407,  125080.77187095,  204658.83919054,\n",
       "         217891.5007297 ,  120456.9853428 ,  133286.54348323,\n",
       "         221924.81743111,  141097.20175301,  210706.56766651,\n",
       "         145761.68502748,  289207.08768194,  183570.78264164,\n",
       "         100230.46086665,  322924.77137511,  171874.96250777,\n",
       "         122425.81717017,  137710.33589055,  307470.91121297,\n",
       "         140505.87310735,  280712.83487645,  132456.39578875,\n",
       "          88723.15931468,  166128.55699684,  145446.7964104 ,\n",
       "         160876.86032304,  176842.49234618,  253819.09935432,\n",
       "         119724.16133183,  137560.40619738,  235254.60414114,\n",
       "         318407.10732499,  104554.35491588,  193469.57132158,\n",
       "         169679.60867087,  148784.83976194,   95528.56892836,\n",
       "         251612.26995921,  305140.62208701,   53262.57534221,\n",
       "         283152.89344939,   95646.26298138,  136411.64725759,\n",
       "         168864.83654135,  210392.21282697,  204894.27659939,\n",
       "         178771.24917614,  247102.87239323,  146338.34702484,\n",
       "         130518.03007807,  172745.17422802,  343994.24169759,\n",
       "         180429.98333797,   98521.22697432,  130833.45353691,\n",
       "         111202.76127737,  131259.31616798,  193613.84706701,\n",
       "         158469.26086595,  265787.66539558,  210545.58766761,\n",
       "         151259.15298701,  113191.71726005,  242951.26528922,\n",
       "         131215.48146673,  263420.3282149 ,  303831.84270191,\n",
       "          86697.62740854,  143361.59401816,  152024.17959735,\n",
       "         158846.3487551 ,  234095.66853139,  231862.9273199 ,\n",
       "         137868.5571541 ,  350699.36347725,  124318.94895962,\n",
       "         234113.97600654,  120141.91759064,  103440.94658451,\n",
       "         160747.89259801,  148197.18986204,  410396.91764075,\n",
       "         337002.86078328,  291336.99348849,  282658.26752475,\n",
       "         275562.42627054,  319696.81995162,  306607.04126741,\n",
       "         202340.9612879 ,  142905.43975179,  156435.99959262,\n",
       "         261360.07639155,  207871.51587154,  146505.56647762,\n",
       "         106846.54059728,  151414.63427695,  102741.61660517,\n",
       "         295775.7021494 ,  342797.19245314,  254261.1566445 ,\n",
       "         147494.54508641,  202809.90902035,  126142.9589994 ,\n",
       "         263904.32659073,  125066.3083122 ,  136005.75295545,\n",
       "         307773.8561031 ,  168885.74845282,  174574.36408895,\n",
       "         559846.57318405,  180234.00986244,  142687.51612251,\n",
       "         201454.03343438,  107798.87052737,  182666.43846078,\n",
       "         330374.76407939,  139830.67329617,  196716.60584679,\n",
       "         119835.40788829,   54878.01952462,  198705.03959669,\n",
       "         272695.97639573,  119568.06416279,  200250.19756843,\n",
       "         232648.68158469,  117547.95426261,  129773.94562215,\n",
       "         287247.56226365,  202971.91861523,  361806.34728625,\n",
       "         120188.7440194 ,  124253.22394219,  223818.15434015,\n",
       "         171507.41703491,   92763.45116109,  180175.05526446,\n",
       "         217158.82262487,  226120.41799364,  135340.13091379,\n",
       "          73834.99265096,  242500.27161882,  141478.79694636,\n",
       "         115602.01613563,   89899.47794482,  209546.57933474,\n",
       "         174359.53048674,  272396.85427592,  255688.12554011,\n",
       "         104670.26703656,  219771.17426083,  185275.71245318,\n",
       "         169812.54754724,  157474.44997632,  225101.19052658,\n",
       "          87612.93393734,  149013.68104691,  178043.87913914,\n",
       "         201015.44607804,  180049.87449543,  221120.77440671,\n",
       "          74971.1088583 ,   90328.53932154,  110790.28362149,\n",
       "         232532.45771516,  153128.98091293,  316867.51127549,\n",
       "         195658.29103813,   59324.23561705,  205916.3932251 ,\n",
       "         106976.44216131,  196964.90580913,   98623.08850305,\n",
       "         232260.15442967,  209962.22426335,  200395.05301599,\n",
       "         111241.1950028 ,   96005.85650127,  237050.44710477,\n",
       "         183623.13007251,  189502.98056946,  264450.85811493,\n",
       "         243830.87533865,  106964.69902488,  161969.24464817,\n",
       "         268361.16346423,  116582.33007245,  223789.77262849,\n",
       "         102180.44566928,  228066.35921999,  158507.05820109,\n",
       "         115805.52141962,  212888.82980369,   84692.17463605,\n",
       "          86673.72222191,   97778.92062555,  304340.01798599,\n",
       "         141179.56680634,  195591.78216083,  242932.75217703,\n",
       "          62899.53944302,  141351.84168844,  111513.13521982,\n",
       "         434428.25425286,  121967.66429931,  115693.77408019,\n",
       "         275396.97769422,  200931.04015404,  237532.64641523,\n",
       "         208767.02038694,   99157.60295199,  117316.34177212,\n",
       "         207991.08498998,  170389.15273574,  163442.29439171,\n",
       "         149964.12493387,  186558.03038817,   97811.39648207,\n",
       "         170051.78801087,   82468.09741908,  170007.0583368 ,\n",
       "         177412.92159792,  173868.39315889,  130527.22600638,\n",
       "         205787.06793707,  231209.02010581,  125600.47004068,\n",
       "         177797.64565006,  258306.23301987,  228844.31720734,\n",
       "         171784.63803494,  272627.06128049,  142923.93263742,\n",
       "         307709.24902228,  206772.58530124,  149399.94828869,\n",
       "         188068.40946017,  157800.82887618,  110069.09065902,\n",
       "         165261.87225218,  110870.66959311,  106832.52897922,\n",
       "         120525.51679449,   95943.36178527,  193026.9377806 ,\n",
       "         121064.26778272,  146233.68728493,  188414.73288628,\n",
       "          84434.36630962,  269142.39622446,  190879.41167146,\n",
       "         309980.35433146,  357838.56467986,  113018.72927612,\n",
       "         142601.0466108 ,  121634.53832158,  147916.41260827,\n",
       "          79526.62093895,  253090.55679401,  227347.67271772,\n",
       "         222139.36345787,  120940.81119004,  179235.30589885,\n",
       "         117222.72819181,  122987.10289111,  242041.89720651,\n",
       "         207135.08290556,   91705.01652891,  263368.54130114,\n",
       "          67811.81389334,  196057.20093408,  206272.48975223,\n",
       "         141583.58368133,  166320.29170631,  170397.72895521,\n",
       "         262194.04995124,  173776.52305658,  124333.68862926,\n",
       "         286304.75277656,  349036.96669932,  376721.00076589,\n",
       "         112092.54825023,  206593.79701064,   69788.82273882,\n",
       "         233210.42934832,  143234.65173616,  317084.29223032,\n",
       "         182100.38712776,  136888.19482052,  134570.47481839,\n",
       "         109468.08209728,  185953.05026172,  200972.84045137,\n",
       "         169900.92473523,   49397.69739898,   91778.48582482,\n",
       "         188696.11566924,  152099.79913705,  144251.22018097]))"
      ]
     },
     "execution_count": 45,
     "metadata": {},
     "output_type": "execute_result"
    }
   ],
   "source": [
    "y_test,y_test_pred\n"
   ]
  },
  {
   "cell_type": "code",
   "execution_count": null,
   "metadata": {
    "collapsed": true
   },
   "outputs": [],
   "source": []
  }
 ],
 "metadata": {
  "anaconda-cloud": {},
  "kernelspec": {
   "display_name": "Python 3",
   "language": "python",
   "name": "python3"
  },
  "language_info": {
   "codemirror_mode": {
    "name": "ipython",
    "version": 3
   },
   "file_extension": ".py",
   "mimetype": "text/x-python",
   "name": "python",
   "nbconvert_exporter": "python",
   "pygments_lexer": "ipython3",
   "version": "3.6.3"
  },
  "name": "Train_Test_Splits_Regularization_Exercises-ANSWERS",
  "notebookId": 2125319687183944
 },
 "nbformat": 4,
 "nbformat_minor": 1
}
